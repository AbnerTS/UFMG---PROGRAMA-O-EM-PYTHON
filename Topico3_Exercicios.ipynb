{
  "nbformat": 4,
  "nbformat_minor": 0,
  "metadata": {
    "colab": {
      "name": "Topico3_Exercicios.ipynb",
      "provenance": [],
      "authorship_tag": "ABX9TyMAKMoR0010QCZgI+Gf85pU",
      "include_colab_link": true
    },
    "kernelspec": {
      "name": "python3",
      "display_name": "Python 3"
    },
    "language_info": {
      "name": "python"
    }
  },
  "cells": [
    {
      "cell_type": "markdown",
      "metadata": {
        "id": "view-in-github",
        "colab_type": "text"
      },
      "source": [
        "<a href=\"https://colab.research.google.com/github/AbnerTS/UFMG-PROGRAMACAO-EM-PYTHON/blob/main/Topico3_Exercicios.ipynb\" target=\"_parent\"><img src=\"https://colab.research.google.com/assets/colab-badge.svg\" alt=\"Open In Colab\"/></a>"
      ]
    },
    {
      "cell_type": "markdown",
      "metadata": {
        "id": "DifySOauBkl4"
      },
      "source": [
        "##Problema 1\n",
        "O Supermercado Epa resolveu dar um aumento de salário aos seus colaboradores e lhe contratou para\n",
        "desenvolver a solução que calculará os reajustes. Para isso, escreva uma função chamada pagamento\n",
        "que recebe como parâmetro o salário atual do colaborador e retorna o salário reajustado de acordo\n",
        "com as regras abaixo.\n",
        "\n",
        "Salário atual | Porcentagem de aumento\n",
        "\n",
        "Salários até R$ 280,00 | Aumento de 20%\n",
        "\n",
        "Maior que R$ 280,00 até R$ 700,00 | Aumento de 15%\n",
        "\n",
        "Maior que R$ 700,00 até R$ 1500,00 | Aumento de 10%\n",
        "\n",
        "Maior que R$ 1500,00 | Aumento de 5%\n",
        "\n",
        "Observação 1: O nome da função deve ser exatamente como especificado acima e seu arquivo deve\n",
        "obrigatoriamente se chamar problema1.py.\n",
        "\n",
        "Observação 2: Seu programa deve conter apenas a função descrita acima. Você não precisa realizar a\n",
        "entrada e saída de dados (não precisa usar as funções input() e print()).\n",
        "\n",
        "###Exemplo de execução do programa:\n",
        "Digite o valor do salário: 280.00\n",
        "\n",
        "Valor do aumento: 56.00\n",
        "- Novo salário: 336.00\n",
        "\n",
        "###Exemplo de execução do programa:\n",
        "Digite o valor do salário: 785.00\n",
        "\n",
        "Valor do aumento: 78.50\n",
        "- Novo salário: 863.50"
      ]
    },
    {
      "cell_type": "code",
      "metadata": {
        "colab": {
          "base_uri": "https://localhost:8080/"
        },
        "id": "iHKB61Ny_jpQ",
        "outputId": "06f42311-2d68-4ed5-e7db-c3b21e18dbcf"
      },
      "source": [
        "def pagamento(salario):\n",
        "    if (salario <= 280.00):\n",
        "        salario = (salario * 0.2)\n",
        "    elif (salario <= 700.00):\n",
        "        salario = (salario * 0.15)\n",
        "    elif (salario <= 1500.00):\n",
        "        salario = (salario * 0.10)\n",
        "    else:\n",
        "        salario = (salario * 0.05)\n",
        "    return salario\n",
        "\n",
        "salario = float(input(\"Digite o valor do salário:\"))\n",
        "aumento = pagamento(salario)\n",
        "\n",
        "print(\"Valor do aumento: %.2f\" % (aumento))\n",
        "print(\"Novo salário: %.2f\" % (salario + aumento))"
      ],
      "execution_count": 5,
      "outputs": [
        {
          "output_type": "stream",
          "name": "stdout",
          "text": [
            "Digite o valor do salário:280\n",
            "Valor do aumento: 56.00\n",
            "Novo salário: 336.00\n"
          ]
        }
      ]
    },
    {
      "cell_type": "markdown",
      "metadata": {
        "id": "6in-mLSPBoUH"
      },
      "source": [
        "##Problema 2\n",
        "Você foi contratado para realizar o cálculo da folha de pagamento de uma empresa. Para isso, escreva\n",
        "uma função chamada pagamento que recebe como parâmetros o valor da hora trabalhada e a quantidade\n",
        "de horas trabalhadas e retorna o salário após os descontos do Imposto de Renda (IR), conforme\n",
        "as regras abaixo.\n",
        "\n",
        "Salário bruto | Porcentagem de desconto do IR\n",
        "\n",
        "Salários até até R$ 900,00 | Isento de desconto do IR\n",
        "\n",
        "Maior que R$ 900,00 até R$ 1500,00 | Desconto de 5%\n",
        "\n",
        "Maior que R$ 1500,00 até R$ 2500,00 | Desconto de 10%\n",
        "\n",
        "Maior que R$ 2500,00 | Desconto de 20%\n",
        "\n",
        "Observação 1: O nome da função deve ser exatamente como especificado acima e seu arquivo deve\n",
        "obrigatoriamente se chamar problema2.py.\n",
        "\n",
        "Observação 2: Seu programa deve conter apenas a função descrita acima. Você não precisa realizar a\n",
        "entrada e saída de dados (não precisa usar as funções input() e print()).\n",
        "\n",
        "###Exemplo de execução do programa:\n",
        "Digite o valor da hora trabalhada: 40.0\n",
        "\n",
        "Digite a quantidade de horas trabalhadas: 7\n",
        "- Salário líquido: 280.00\n",
        "\n",
        "\n",
        "###Exemplo de execução do programa:\n",
        "Digite o valor da hora trabalhada: 35.0\n",
        "\n",
        "Digite a quantidade de horas trabalhadas: 40\n",
        "\n",
        "- Salário líquido: 1330.00"
      ]
    },
    {
      "cell_type": "code",
      "metadata": {
        "colab": {
          "base_uri": "https://localhost:8080/"
        },
        "id": "qeQ8Z0CgBr7v",
        "outputId": "79085896-0612-4b81-8f81-cd224e4c80a1"
      },
      "source": [
        "def pagamento(vhora, qtdhora):\n",
        "    salBruto = vhora * qtdhora\n",
        "    salario = 0.0\n",
        "    IR=0.0\n",
        "    if(salBruto < 900):\n",
        "        IR = IR\n",
        "    elif (salBruto > 900 and salBruto <= 1500):\n",
        "        IR = salBruto * 0.05\n",
        "    elif (salBruto > 1500 and salBruto < 2500):\n",
        "        IR = salBruto * 0.10\n",
        "    elif (salBruto > 2500):\n",
        "        IR = salBruto * 0.20\n",
        "    return (salBruto-IR)\n",
        "\n",
        "\n",
        "vHora = float(input(\"Digite o valor da hora trabalhada:\"))\n",
        "qHora = int(input(\"Digite a quantidade de horas trabalhadas:\"))\n",
        "\n",
        "salarioLiq = pagamento(vHora, qHora)\n",
        "\n",
        "print(\"Salário líquido: R$ %.2f\" % (salarioLiq))\n"
      ],
      "execution_count": 8,
      "outputs": [
        {
          "output_type": "stream",
          "name": "stdout",
          "text": [
            "Digite o valor da hora trabalhada:35\n",
            "Digite a quantidade de horas trabalhadas:40\n",
            "Salário líquido: R$ 1330.00\n"
          ]
        }
      ]
    },
    {
      "cell_type": "markdown",
      "metadata": {
        "id": "ftUX_E1rBsWn"
      },
      "source": [
        "##Problema 3\n",
        "Faça um programa para determinar o tipo de umtriângulo. Para isso, crie duas funções:\n",
        "1. Umachamada verifica_triangulo, que recebe como parâmetros três lados de um triângulo\n",
        "e retorna True se os lados formarem um triângulo, ou False caso negativo\n",
        "2. Outra chamada tipo_triangulo, que recebe como parâmetros três lados de um triângulo e\n",
        "retorna uma das três strings a seguir: Equilátero, Isósceles ou Escaleno. Ou seja, a função\n",
        "retorna o tipo do triângulo formado pelos três lados informados\n",
        "\n",
        "Algumas dicas:\n",
        "• Para verificar se é um triângulo, confira se os lados obedecem a desigualdade triangular: z Ç\n",
        "x + y e y < x + z e x < y + z.\n",
        "\n",
        "Tipo do triângulo | Lados\n",
        "- Triângulo Equilátero | 3 lados iguais\n",
        "- Triângulo Isósceles | 2 lados iguais\n",
        "- Triângulo Escaleno | 3 lados diferentes\n",
        "\n",
        "Observação 1: O nome das funções devem ser exatamente como especificado acima e seu arquivo\n",
        "deve obrigatoriamente se chamar problema3.py.\n",
        "\n",
        "Observação 2: Seu programa deve conter apenas as funções descritas acima. Você não precisa realizar\n",
        "a entrada e saída de dados (não precisa usar as funções input() e print()).\n",
        "\n",
        "###Exemplo de execução do programa:\n",
        "Digite o valor do primeiro lado: 15\n",
        "\n",
        "Digite o valor do segundo lado: 20\n",
        "\n",
        "Digite o valor do terceiro lado: 1\n",
        "\n",
        "- Não forma triângulo\n",
        "\n",
        "\n",
        "###Exemplo de execução do programa:\n",
        "Digite o valor do primeiro lado: 2\n",
        "\n",
        "Digite o valor do segundo lado: 2\n",
        "\n",
        "Digite o valor do terceiro lado: 2\n",
        "\n",
        "- Equilátero\n"
      ]
    },
    {
      "cell_type": "code",
      "metadata": {
        "colab": {
          "base_uri": "https://localhost:8080/"
        },
        "id": "iMEhrgYNBwG3",
        "outputId": "99b06045-d703-4de1-9f19-356f94dfd85c"
      },
      "source": [
        "def verifica_triangulo(x, y, z):\n",
        "    v = False\n",
        "    if (z < (x+y)) and (y < (x+z)) and (x < (y+z)):\n",
        "        v = True\n",
        "    return v\n",
        "\n",
        "def tipo_triangulo(x, y, z):\n",
        "    tTriangulo = ''\n",
        "    if (z==x and z==y):\n",
        "       tTriangulo = 'Triângulo Equilátero'\n",
        "    elif (z==x or z==y or x==y):\n",
        "        tTriangulo = 'Triângulo Isósceles'\n",
        "    else:\n",
        "        tTriangulo = 'Triângulo Escaleno'\n",
        "    return tTriangulo\n",
        "\n",
        "\n",
        "x = int(input(\"Digite o primeiro número:\"))\n",
        "y = int(input(\"Digite o segundo número:\"))\n",
        "z = int(input(\"Digite o terceiro número:\"))\n",
        "\n",
        "if verifica_triangulo(x, y, z):\n",
        "    print(tipo_triangulo(x, y, z))\n",
        "else:\n",
        "    print(\"Não forma triângulo\")\n",
        "    2"
      ],
      "execution_count": 10,
      "outputs": [
        {
          "output_type": "stream",
          "name": "stdout",
          "text": [
            "Digite o primeiro número:2\n",
            "Digite o segundo número:2\n",
            "Digite o terceiro número:2\n",
            "Triângulo Equilátero\n"
          ]
        }
      ]
    },
    {
      "cell_type": "markdown",
      "metadata": {
        "id": "OoM6IgnpBwTf"
      },
      "source": [
        "##Problema 4\n",
        "Um posto está vendendo combustíveis de acordo com os descontos a seguir:\n",
        "• Álcool (\"a\")\n",
        "– até 20 litros, desconto de 3% por litro\n",
        "– acima de 20 litros, desconto de 5% por litro\n",
        "• Gasolina (\"g\")\n",
        "– até 20 litros, desconto de 4% por litro\n",
        "– acima de 20 litros, desconto de 6% por litro\n",
        "\n",
        "Escreva uma função chamada calcula_valor que recebe como parâmetros o preço do litro de combustível,\n",
        "a quantidade de litros abastecidos e o tipo de combustível utilizado (\"a\"ou \"g\") e retorna o\n",
        "valor a ser pago de acordo com as regras acima.\n",
        "\n",
        "Observação 1: O nome da função deve ser exatamente como especificado acima e seu arquivo deve\n",
        "obrigatoriamente se chamar problema4.py.\n",
        "\n",
        "Observação 2: Seu programa deve conter apenas a função descrita acima. Você não precisa realizar a\n",
        "entrada e saída de dados (não precisa usar as funções input() e print()).\n",
        "\n",
        "###Exemplo de execução do programa:\n",
        "Digite a quantidade de litros: 20\n",
        "\n",
        "Digite tipo de combustível: a\n",
        "\n",
        "Digite o preço do litro de combustível: 3.7\n",
        "- Total: 71.78\n",
        "\n",
        "###Exemplo de execução do programa:\n",
        "Digite a quantidade de litros: 20\n",
        "\n",
        "Digite tipo de combustível: g\n",
        "\n",
        "Digite o preço do litro de combustível: 3.7\n",
        "- Total: 71.04\n"
      ]
    },
    {
      "cell_type": "code",
      "metadata": {
        "colab": {
          "base_uri": "https://localhost:8080/"
        },
        "id": "SHwWyBIPBykX",
        "outputId": "7ea11f95-0b26-4456-898e-e07b11e30cb1"
      },
      "source": [
        "def calcula_valor(pPreco, pLitros ,pCombustivel):\n",
        "    valor = 0.0\n",
        "    valor = pPreco * pLitros\n",
        "    if(pCombustivel == 'a'):\n",
        "        if(pLitros <= 20):\n",
        "            valor = valor - (valor * 0.03)\n",
        "        else:\n",
        "            valor = valor - (valor * 0.05)\n",
        "    else:\n",
        "        if(pLitros <= 20):\n",
        "            valor = valor - (valor * 0.04)\n",
        "        else:\n",
        "            valor = valor - (valor * 0.06)\n",
        "    return valor\n",
        "    \n",
        "\n",
        "litros = int(input(\"Digite a quantidade de litros:\"))\n",
        "combustivel = input(\"Digite tipo de combustível:\")\n",
        "preco = float(input(\"Digite o preço do litro de combustível:\"))\n",
        "\n",
        "print(\"Total: %.2f\" % (calcula_valor(preco, litros, combustivel)))"
      ],
      "execution_count": 11,
      "outputs": [
        {
          "output_type": "stream",
          "name": "stdout",
          "text": [
            "Digite a quantidade de litros:20\n",
            "Digite tipo de combustível:g\n",
            "Digite o preço do litro de combustível:3.7\n",
            "Total: 71.04\n"
          ]
        }
      ]
    },
    {
      "cell_type": "code",
      "metadata": {
        "id": "vnC15HwPE-vM"
      },
      "source": [
        ""
      ],
      "execution_count": null,
      "outputs": []
    }
  ]
}