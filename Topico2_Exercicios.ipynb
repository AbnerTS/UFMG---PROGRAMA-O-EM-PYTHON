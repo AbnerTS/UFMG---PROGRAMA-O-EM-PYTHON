{
  "nbformat": 4,
  "nbformat_minor": 0,
  "metadata": {
    "colab": {
      "name": "Topico2_Exercicios.ipynb",
      "provenance": [],
      "authorship_tag": "ABX9TyPh5zBKm9bPDIhz5dcqF9pE",
      "include_colab_link": true
    },
    "kernelspec": {
      "name": "python3",
      "display_name": "Python 3"
    },
    "language_info": {
      "name": "python"
    }
  },
  "cells": [
    {
      "cell_type": "markdown",
      "metadata": {
        "id": "view-in-github",
        "colab_type": "text"
      },
      "source": [
        "<a href=\"https://colab.research.google.com/github/AbnerTS/UFMG-PROGRAMACAO-EM-PYTHON/blob/main/Topico2_Exercicios.ipynb\" target=\"_parent\"><img src=\"https://colab.research.google.com/assets/colab-badge.svg\" alt=\"Open In Colab\"/></a>"
      ]
    },
    {
      "cell_type": "markdown",
      "metadata": {
        "id": "TytyOjG2e7vn"
      },
      "source": [
        "##Problema 1\n",
        "Faça um programa que leia cinco números inteiros e identifique:\n",
        "- O maior valor informado\n",
        "- O menor valor informado\n",
        "- Quantos números são divisíveis por 3\n",
        "\n",
        "Observação: asmensagens exibidas para o usuário deverão ser exatamente como apresentado abaixo\n",
        "(mensagens exibidas com os comandos input() e print()).\n",
        "\n",
        "###Exemplo de execução do programa:\n",
        "\n",
        "Digite o primeiro inteiro: 2\n",
        "\n",
        "Digite o segundo inteiro: 1\n",
        "\n",
        "Digite o terceiro inteiro: 5\n",
        "\n",
        "Digite o quarto inteiro: 3\n",
        "\n",
        "Digite o quinto inteiro: 4\n",
        "\n",
        "- Maior: 5\n",
        "- Menor: 1\n",
        "- Quantidade de divisíveis por 3: 1"
      ]
    },
    {
      "cell_type": "code",
      "metadata": {
        "colab": {
          "base_uri": "https://localhost:8080/"
        },
        "id": "pq-RBCh2e6lP",
        "outputId": "2634872e-c1a9-4873-bc91-09d707a6c014"
      },
      "source": [
        "n1 = float(input(\"Digite o primeiro inteiro:\"))\n",
        "n2 = float(input(\"Digite o segundo inteiro:\"))\n",
        "n3 = float(input(\"Digite o terceiro inteiro:\"))\n",
        "n4 = float(input(\"Digite o quarto inteiro:\"))\n",
        "n5 = float(input(\"Digite o quinto inteiro:\"))\n",
        "\n",
        "if (n1 > n2) and (n1 > n3) and (n1 > n4) and (n1 > n5):\n",
        "    maior = n1\n",
        "else:\n",
        "    if(n2 > n3) and (n2 > n4) and (n2 > n5):\n",
        "        maior = n2\n",
        "    else:\n",
        "        if(n3 > n4) and (n3 > n5):\n",
        "            maior = n3\n",
        "        else:\n",
        "            if(n4 > n5):\n",
        "                maior = n4\n",
        "            else:\n",
        "                maior = n5\n",
        "             \n",
        "if (n1 < n2) and (n1 < n3) and (n1 < n4) and (n1 < n5):\n",
        "    menor = n1\n",
        "else:\n",
        "    menor = n2\n",
        "    if(n2 < n3) and (n2 < n4) and (n2 < n5):\n",
        "        menor = n2\n",
        "    else:\n",
        "        if(n3 < n4) and (n3 < n5):\n",
        "            menor = n3\n",
        "        else:\n",
        "            if(n4 < n5):\n",
        "                menor = n4\n",
        "            else:\n",
        "                menor = n5\n",
        "tDiv = 0\n",
        "if not (n1 % 3):\n",
        "    tDiv = tDiv + 1\n",
        "if not (n2 % 3):\n",
        "    tDiv = tDiv + 1\n",
        "if not (n3 % 3):\n",
        "    tDiv = tDiv + 1\n",
        "if not (n4 % 3):\n",
        "    tDiv = tDiv + 1\n",
        "if not (n5 % 3):\n",
        "    tDiv = tDiv + 1\n",
        "    \n",
        "print(\"Maior: %i\" % (maior))\n",
        "print(\"Menor: %i\" % (menor))\n",
        "print(\"Quantidade de divisíveis por 3: %i\" % (tDiv))\n"
      ],
      "execution_count": 1,
      "outputs": [
        {
          "output_type": "stream",
          "name": "stdout",
          "text": [
            "Digite o primeiro inteiro:2\n",
            "Digite o segundo inteiro:1\n",
            "Digite o terceiro inteiro:5\n",
            "Digite o quarto inteiro:3\n",
            "Digite o quinto inteiro:4\n",
            "Maior: 5\n",
            "Menor: 1\n",
            "Quantidade de divisíveis por 3: 1\n"
          ]
        }
      ]
    },
    {
      "cell_type": "markdown",
      "metadata": {
        "id": "hQJGRQkgedQR"
      },
      "source": [
        "\n",
        "##Problema 2\n",
        "Um motorista que ultrapassa a velocidade máxima permitida estará sujeito a uma infração média,\n",
        "grave ou gravíssima. Faça um programa que receba dois valores: a velocidade máxima de uma via e\n",
        "a velocidade registrada por um radar. Em seguida, o programa deve imprimir na tela se o motorista\n",
        "cometeu algum tipo de infração. Considere que as multas são definidas conforme a tabela abaixo:\n",
        "\n",
        "Excesso de velocidade sobre a máxima permitida | Natureza da infração\n",
        "\n",
        "Menor ou igual a velocidade máxima | Sem Infração\n",
        "\n",
        "Até 20% Infração | Média\n",
        "\n",
        "Acima de 20% até 50% | Infração Grave\n",
        "\n",
        "Acima de 50% Infração | Gravíssima\n",
        "\n",
        "\n",
        "###Observação: as mensagens exibidas para o usuário deverão ser exatamente como apresentado abaixo\n",
        "(mensagens exibidas comos comandos input() e print()). \n",
        "\n",
        "A saída do programa será uma dasmensagens\n",
        "apresentadas na coluna Natureza da infração da tabela acima.\n",
        "\n",
        "###Exemplo de execução do programa:\n",
        "Digite o valor da velocidade máxima: 60\n",
        "\n",
        "Digite o valor da velocidade registrada: 60\n",
        "- Sem Infração\n",
        "\n",
        "###Exemplo de execução do programa:\n",
        "Digite o valor da velocidade máxima: 100\n",
        "\n",
        "Digite o valor da velocidade registrada: 160\n",
        "- Infração Gravíssima\n"
      ]
    },
    {
      "cell_type": "code",
      "metadata": {
        "colab": {
          "base_uri": "https://localhost:8080/"
        },
        "id": "sN5UqfN7dVIW",
        "outputId": "444b1856-6947-42cf-8299-a504a254b931"
      },
      "source": [
        "vMax = int(input(\"Digite o valor da velocidade máxima:\"))\n",
        "vReg = int(input(\"Digite o valor da velocidade registrada:\"))\n",
        "\n",
        "if(vReg <= vMax):\n",
        "    print(\"Sem Infração\")\n",
        "elif(vReg <= (vMax * 0.20) + vMax):\n",
        "    print(\"Infração Média\")\n",
        "elif(vReg > (vMax * 0.20) + vMax and (vReg < (vMax * 0.50) + vMax)):\n",
        "    print(\"Infração Grave\")\n",
        "else:\n",
        "    print(\"Infração Gravíssima\")"
      ],
      "execution_count": 2,
      "outputs": [
        {
          "output_type": "stream",
          "name": "stdout",
          "text": [
            "Digite o valor da velocidade máxima:100\n",
            "Digite o valor da velocidade registrada:160\n",
            "Infração Gravíssima\n"
          ]
        }
      ]
    },
    {
      "cell_type": "markdown",
      "metadata": {
        "id": "wh6H1vR4fYPf"
      },
      "source": [
        "##Problema 3\n",
        "A redação atual do parágrafo 1o do artigo 40 da Constituição Federal estabelece que um servidor público\n",
        "poderá se aposentar voluntariamente desde que tenha cumpridoumtempo mínimo de exercício\n",
        "no serviço público e atenda uma das seguintes condições:\n",
        "\n",
        "- 60 anos de idade e 35 de contribuição, se homem, e 55 anos de idade e 30 de contribuição, se\n",
        "mulher; ou,\n",
        "- 65 anos de idade, se homem, e 60 anos de idade, se mulher, não importando o tempo de contribuição.\n",
        "\n",
        "Faça um programa que receba a idade, o tempo de contribuição e o sexo de um servidor público e\n",
        "imprima na tela se esse servidor pode se aposentar ou não. Utilize o caractere \"M\" para representar o\n",
        "sexomasculino e \"F\" para representar o sexo feminino.\n",
        "\n",
        "Observação: as mensagens exibidas para o usuário deverão ser exatamente como apresentado abaixo\n",
        "(mensagens exibidas com os comandos input() e print()).\n",
        "\n",
        "###Exemplo de execução do programa:\n",
        "Digite a idade: 60\n",
        "Digite o tempo de contribuição: 35\n",
        "Digite o sexo (M/F):M\n",
        "- Pode aposentar\n",
        "\n",
        "###Exemplo de execução do programa:\n",
        "Digite a idade: 60\n",
        "Digite o tempo de contribuição: 30\n",
        "Digite o sexo (M/F):M\n",
        "- Não pode aposentar\n"
      ]
    },
    {
      "cell_type": "code",
      "metadata": {
        "colab": {
          "base_uri": "https://localhost:8080/"
        },
        "id": "ixGlqqqBfS5Y",
        "outputId": "41ecb6c6-f33f-41c7-f34f-5c33e25b0fef"
      },
      "source": [
        "idade = int(input(\"Digite a idade:\"))\n",
        "contribuicao = int(input(\"Digite o tempo de contribuição:\"))\n",
        "sexo = input(\"Digite o sexo (M/F):\")\n",
        "\n",
        "if (idade == 60 and contribuicao == 35 and sexo == 'M') or (idade == 55 and contribuicao == 30 and sexo == 'F'):\n",
        "    print(\"Pode aposentar\")\n",
        "elif (idade == 65 and sexo == 'M') or (idade == 60 and sexo == 'F'):\n",
        "    print(\"Pode aposentar\")\n",
        "else:\n",
        "    print(\"Não pode aposentar\")"
      ],
      "execution_count": 3,
      "outputs": [
        {
          "output_type": "stream",
          "name": "stdout",
          "text": [
            "Digite a idade:60\n",
            "Digite o tempo de contribuição:35\n",
            "Digite o sexo (M/F):M\n",
            "Pode aposentar\n"
          ]
        }
      ]
    },
    {
      "cell_type": "markdown",
      "metadata": {
        "id": "lQ_Rm6SCjZ-g"
      },
      "source": [
        "<meta charset='UTF-8'>\n",
        "##Problema 4\n",
        "As Organizações Tabajara resolveram dar um aumento de salário aos seus colaboradores e lhe contrataram\n",
        "para desenvolver o programa que calculará os valores dos reajustes. Faça um programa que\n",
        "receba o salário de um colaborador, calcula o reajuste segundo a tabela abaixo, e exibe o valor do\n",
        "aumento e o valor do novo salário.\n",
        "\n",
        "Salário atual | Porcentagem de aumento\n",
        "\n",
        "Salários até R\\$ 280,00 | Aumento de 20%\n",
        "\n",
        "Maior que R\\$ 280,00 até R$ 700,00 | Aumento de 15%\n",
        "\n",
        "Maior que R\\$ 700,00 até R$ 1500,00 | Aumento de 10%\n",
        "\n",
        "Maior que R\\$ 1500,00 | Aumento de 5%\n",
        "\n",
        "Observação: as mensagens exibidas para o usuário deverão ser exatamente como apresentado abaixo\n",
        "(mensagens exibidas com os comandos input() e print()).\n",
        "\n",
        "###Exemplo de execução do programa:\n",
        "Digite o valor do salário: 280.00\n",
        "- Valor do aumento: 56.00\n",
        "- Novo salário: 336.00\n",
        "\n",
        "###Exemplo de execução do programa:\n",
        "Digite o valor do salário: 785.00\n",
        "- Valor do aumento: 78.50\n",
        "- Novo salário: 863.50\n"
      ]
    },
    {
      "cell_type": "code",
      "metadata": {
        "colab": {
          "base_uri": "https://localhost:8080/"
        },
        "id": "phFBiWXQfYwX",
        "outputId": "db730ff6-d435-48fe-ec58-b6825f20e1e2"
      },
      "source": [
        "salario = float(input(\"Digite o valor do salário:\"))\n",
        "\n",
        "aumento = 0.00\n",
        "\n",
        "if (salario <= 280.00):\n",
        "    aumento = (salario * 0.2)\n",
        "elif (salario <= 700.00):\n",
        "    aumento = (salario * 0.15)\n",
        "elif (salario <= 1500.00):\n",
        "    aumento = (salario * 0.10)\n",
        "else:\n",
        "    aumento = (salario * 0.05)\n",
        "\n",
        "print(\"Valor do aumento: %.2f\" % (aumento))\n",
        "print(\"Novo salário: %.2f\" % (salario + aumento))\n"
      ],
      "execution_count": 4,
      "outputs": [
        {
          "output_type": "stream",
          "name": "stdout",
          "text": [
            "Digite o valor do salário:280\n",
            "Valor do aumento: 56.00\n",
            "Novo salário: 336.00\n"
          ]
        }
      ]
    },
    {
      "cell_type": "code",
      "metadata": {
        "id": "Wexxdx6gpLsr"
      },
      "source": [
        ""
      ],
      "execution_count": null,
      "outputs": []
    }
  ]
}