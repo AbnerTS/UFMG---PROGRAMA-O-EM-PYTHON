{
  "nbformat": 4,
  "nbformat_minor": 0,
  "metadata": {
    "colab": {
      "name": "Topico5_Exercicios.ipynb",
      "provenance": [],
      "collapsed_sections": [],
      "authorship_tag": "ABX9TyMk84tAmeyJnC7Iawr/7TGU",
      "include_colab_link": true
    },
    "kernelspec": {
      "name": "python3",
      "display_name": "Python 3"
    },
    "language_info": {
      "name": "python"
    }
  },
  "cells": [
    {
      "cell_type": "markdown",
      "metadata": {
        "id": "view-in-github",
        "colab_type": "text"
      },
      "source": [
        "<a href=\"https://colab.research.google.com/github/AbnerTS/UFMG-PROGRAMACAO-EM-PYTHON/blob/main/Topico5_Exercicios.ipynb\" target=\"_parent\"><img src=\"https://colab.research.google.com/assets/colab-badge.svg\" alt=\"Open In Colab\"/></a>"
      ]
    },
    {
      "cell_type": "markdown",
      "metadata": {
        "id": "K6ieJOQDNSnZ"
      },
      "source": [
        "##Problema 1\n",
        "Crie um programa que receba um nome completo e o imprima no formato (\"sobrenome\", \"primeiro\n",
        "nome e nome do meio\").\n",
        "\n",
        "Observação: asmensagens exibidas para o usuário deverão ser exatamente como apresentado abaixo\n",
        "(mensagens exibidas com os comandos input() e print()).\n",
        "\n",
        "###Exemplo de execução do programa:\n",
        "- Jose Daniel dos Santos Figueredo\n",
        "\n",
        "Nome formatado: Figueredo, Jose Daniel dos Santos\n",
        "\n",
        "###Exemplo de execução do programa:\n",
        "- Pierrot Pilegram\n",
        "\n",
        "Nome formatado: Pilegram, Pierrot"
      ]
    },
    {
      "cell_type": "code",
      "metadata": {
        "colab": {
          "base_uri": "https://localhost:8080/"
        },
        "id": "qL4jhbCINYah",
        "outputId": "24a30673-6d68-421f-ef77-abe38ba0cea7"
      },
      "source": [
        "nomeCompleto = input()\n",
        "\n",
        "p = nomeCompleto.rfind(\" \")\n",
        "sobrenome = nomeCompleto[p:len(nomeCompleto)]\n",
        "p = p - len(nomeCompleto)\n",
        "nome = nomeCompleto[0:p]\n",
        "print(\"Nome formatado: %s, %s\" % (sobrenome, nome))\n"
      ],
      "execution_count": 1,
      "outputs": [
        {
          "output_type": "stream",
          "name": "stdout",
          "text": [
            "Pierrot Pilegram\n",
            "Nome formatado:  Pilegram, Pierrot\n"
          ]
        }
      ]
    },
    {
      "cell_type": "markdown",
      "metadata": {
        "id": "76m1XR5ENluu"
      },
      "source": [
        "##Problema 2\n",
        "Crie um programa que recebe umstring e substitui todas as ocorrências de letras repetidas (consecutivamente)\n",
        "por uma única ocorrência da mesma em maiúscula.\n",
        "\n",
        "Observação: asmensagens exibidas para o usuário deverão ser exatamente como apresentado abaixo\n",
        "(mensagens exibidas com os comandos input() e print()).\n",
        "\n",
        "###Exemplo de execução do programa:\n",
        "- Arranhão\n",
        "\n",
        "ARanhão\n",
        "\n",
        "###Exemplo de execução do programa:\n",
        "- assunto\n",
        "\n",
        "aSunto"
      ]
    },
    {
      "cell_type": "code",
      "metadata": {
        "colab": {
          "base_uri": "https://localhost:8080/"
        },
        "id": "nPIIyOBjNomN",
        "outputId": "a6954765-0620-4b3e-d7c3-df84ae10f094"
      },
      "source": [
        "palavra = input()\n",
        "\n",
        "ultima = ''\n",
        "for s in palavra:\n",
        "    if (ultima == s):\n",
        "        palavra = palavra.replace(ultima+s, s.upper())\n",
        "    ultima = s\n",
        "\n",
        "print(\"%s\" % (palavra))"
      ],
      "execution_count": 2,
      "outputs": [
        {
          "output_type": "stream",
          "name": "stdout",
          "text": [
            "Arranhão\n",
            "ARanhão\n"
          ]
        }
      ]
    },
    {
      "cell_type": "markdown",
      "metadata": {
        "id": "19HFYleqNtqV"
      },
      "source": [
        "##Problema 3\n",
        "Um palíndromo é uma seqüência de caracteres cuja leitura é idêntica se feita da esquerda para a direita\n",
        "ou da direita para a esquerda. Por exemplo: OSSO eOVOsão palíndromos. Escreva umprograma\n",
        "que leia uma string e imprima na tela se ela é umpalíndromo ou não\n",
        "\n",
        "Observação: asmensagens exibidas para o usuário deverão ser exatamente como apresentado abaixo\n",
        "(mensagens exibidas com os comandos input() e print()).\n",
        "\n",
        "###Exemplo de execução do programa:\n",
        "- ovo\n",
        "\n",
        "É palíndromo\n",
        "\n",
        "###Exemplo de execução do programa:\n",
        "- casa\n",
        "\n",
        "Não é palíndromo"
      ]
    },
    {
      "cell_type": "code",
      "metadata": {
        "colab": {
          "base_uri": "https://localhost:8080/"
        },
        "id": "6UJbVODLNu3e",
        "outputId": "f363a50e-fb0c-4bc6-b406-cfcbe8deb94a"
      },
      "source": [
        "palavra = input()\n",
        "\n",
        "ePalindromo = True\n",
        "c=0\n",
        "for v in range(len(palavra)-1, 0, -1):    \n",
        "    if(palavra[c]!=palavra[v]):\n",
        "        ePalindromo = False    \n",
        "    c = c + 1\n",
        "    \n",
        "if(ePalindromo):\n",
        "    print(\"É palíndromo\")\n",
        "else:\n",
        "    print(\"Não é palíndromo\")\n",
        "\n",
        "\n"
      ],
      "execution_count": 3,
      "outputs": [
        {
          "output_type": "stream",
          "name": "stdout",
          "text": [
            "ovo\n",
            "É palíndromo\n"
          ]
        }
      ]
    },
    {
      "cell_type": "markdown",
      "metadata": {
        "id": "TmRdq3LRNvL_"
      },
      "source": [
        "##Problema 4\n",
        "Faça um programa que solicite o nome do usuário e imprima-o na vertical.\n",
        "\n",
        "Observação: asmensagens exibidas para o usuário deverão ser exatamente como apresentado abaixo\n",
        "(mensagens exibidas com os comandos input() e print()).\n",
        "\n",
        "###Exemplo de execução do programa:\n",
        "- FULANO\n",
        "\n",
        "F\n",
        "\n",
        "U\n",
        "\n",
        "L\n",
        "\n",
        "A\n",
        "\n",
        "N\n",
        "\n",
        "O\n"
      ]
    },
    {
      "cell_type": "code",
      "metadata": {
        "colab": {
          "base_uri": "https://localhost:8080/"
        },
        "id": "aQKFhCzfORzY",
        "outputId": "1581e3ce-8c5c-497f-f287-24718fe2b2e3"
      },
      "source": [
        "palavra = input()\n",
        "\n",
        "for v in palavra:\n",
        "    print(\"%s\" % v.upper())\n",
        "    \n",
        "    "
      ],
      "execution_count": 4,
      "outputs": [
        {
          "output_type": "stream",
          "name": "stdout",
          "text": [
            "FULANO\n",
            "F\n",
            "U\n",
            "L\n",
            "A\n",
            "N\n",
            "O\n"
          ]
        }
      ]
    },
    {
      "cell_type": "markdown",
      "metadata": {
        "id": "LsfUmrJBNx5F"
      },
      "source": [
        "##Problema 5\n",
        "Modifique o programa anterior de forma a mostrar o nome em formato de escada.\n",
        "\n",
        "Observação: asmensagens exibidas para o usuário deverão ser exatamente como apresentado abaixo\n",
        "(mensagens exibidas com os comandos input() e print()).\n",
        "\n",
        "###Exemplo de execução do programa:\n",
        "- FULANO\n",
        "\n",
        "F\n",
        "\n",
        "FU\n",
        "\n",
        "FUL\n",
        "\n",
        "FULA\n",
        "\n",
        "FULAN\n",
        "\n",
        "FULANO"
      ]
    },
    {
      "cell_type": "code",
      "metadata": {
        "colab": {
          "base_uri": "https://localhost:8080/"
        },
        "id": "CrcBye7yN0S9",
        "outputId": "372ac54d-e4e6-4a1e-a3f4-d6ba4aad7ee6"
      },
      "source": [
        "palavra = input()\n",
        "\n",
        "nPalavra = ''\n",
        "for v in palavra:\n",
        "    nPalavra = nPalavra + v\n",
        "    print(\"%s\" % nPalavra.upper())\n",
        "    \n",
        "    \n"
      ],
      "execution_count": 5,
      "outputs": [
        {
          "output_type": "stream",
          "name": "stdout",
          "text": [
            "FULANO\n",
            "F\n",
            "FU\n",
            "FUL\n",
            "FULA\n",
            "FULAN\n",
            "FULANO\n"
          ]
        }
      ]
    },
    {
      "cell_type": "markdown",
      "metadata": {
        "id": "aCIievZMN0gW"
      },
      "source": [
        "##Problema 6\n",
        "Altere o programa anterior demodo que a escada seja invertida.\n",
        "\n",
        "Observação: asmensagens exibidas para o usuário deverão ser exatamente como apresentado abaixo\n",
        "(mensagens exibidas com os comandos input() e print()).\n",
        "\n",
        "###Exemplo de execução do programa:\n",
        "- FULANO\n",
        "\n",
        "FULANO\n",
        "\n",
        "FULAN\n",
        "\n",
        "FULA\n",
        "\n",
        "FUL\n",
        "\n",
        "FU\n",
        "\n",
        "F"
      ]
    },
    {
      "cell_type": "code",
      "metadata": {
        "colab": {
          "base_uri": "https://localhost:8080/"
        },
        "id": "BaocWkSkOabm",
        "outputId": "d2961edd-ce52-43e5-942e-7404737e3f08"
      },
      "source": [
        "palavra = input()\n",
        "\n",
        "for v in range(len(palavra), 0, -1):\n",
        "    print(\"%s\" % palavra[0:v].upper())\n",
        "\n",
        "    \n",
        "\n"
      ],
      "execution_count": 6,
      "outputs": [
        {
          "output_type": "stream",
          "name": "stdout",
          "text": [
            "FULANO\n",
            "FULANO\n",
            "FULAN\n",
            "FULA\n",
            "FUL\n",
            "FU\n",
            "F\n"
          ]
        }
      ]
    },
    {
      "cell_type": "code",
      "metadata": {
        "id": "n0dgDeNLOcF_"
      },
      "source": [
        ""
      ],
      "execution_count": null,
      "outputs": []
    }
  ]
}