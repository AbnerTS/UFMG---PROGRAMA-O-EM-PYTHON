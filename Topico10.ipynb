{
  "nbformat": 4,
  "nbformat_minor": 0,
  "metadata": {
    "colab": {
      "name": "Topico10.ipynb",
      "provenance": [],
      "include_colab_link": true
    },
    "kernelspec": {
      "display_name": "Python 3 (ipykernel)",
      "language": "python",
      "name": "python3"
    },
    "language_info": {
      "codemirror_mode": {
        "name": "ipython",
        "version": 3
      },
      "file_extension": ".py",
      "mimetype": "text/x-python",
      "name": "python",
      "nbconvert_exporter": "python",
      "pygments_lexer": "ipython3",
      "version": "3.8.7"
    }
  },
  "cells": [
    {
      "cell_type": "markdown",
      "metadata": {
        "id": "view-in-github",
        "colab_type": "text"
      },
      "source": [
        "<a href=\"https://colab.research.google.com/github/AbnerTS/UFMG-PROGRAMACAO-EM-PYTHON/blob/main/Topico10.ipynb\" target=\"_parent\"><img src=\"https://colab.research.google.com/assets/colab-badge.svg\" alt=\"Open In Colab\"/></a>"
      ]
    },
    {
      "cell_type": "markdown",
      "metadata": {
        "id": "LK_lhZCZdSeN"
      },
      "source": [
        "### Curso de Programação em Python\n",
        "\n",
        "\n",
        "\n",
        "# Estatísticas sobre Gastos Parlamentares \n",
        "------------------\n",
        "\n",
        "# 1. Introdução\n",
        "\n",
        "---------------\n",
        "\n",
        "A Cota para o Exercício da Atividade Parlamentar – CEAP (antiga verba indenizatória) é uma cota única mensal destinada a custear os gastos dos deputados exclusivamente vinculados ao exercício da atividade parlamentar.\n",
        "\n",
        "Nessa atividade prática você deverá implementar uma série de funções para geração de gráficos sobre os gastos parlamentares utilizando os dados publicamente disponíveis sobre as despesas do [CEAP](https://dadosabertos.camara.leg.br/swagger/api.html \"Arquivos - Despesas pela Cota para Exercício da Atividade Parlamentar\"). \n",
        "\n",
        "\n",
        "\n",
        "\n",
        "# Tarefa 0 - Leitura dos dados\n",
        "---------------\n",
        "\n",
        "**Essa está pronta! :-)**\n",
        "\n",
        "Nas duas células abaixo baixamos os arquivos CSVs de 2009 até 2020 e implementamos uma função para leitura dos dados contidos no arquivo CSV de um ano específico. A função retorna uma lista com os registros dos dados e uma outra lista que corresponde aos rótulos (nome das colunas). Essa função será utilizada nas próximas tarefas. Perceba que a lista com os registros dos dados é uma lista multidimensional. Depois, a função implementada <code>le_dados</code> é testada imprimindo os rótulos, a primeira linha dos dados e o número total de registros. Também imprimimos o índice de cada coluna nos registros para facilitar o acesso.\n",
        "\n",
        "**OBS: Execute as duas células abaixo**"
      ]
    },
    {
      "cell_type": "code",
      "metadata": {
        "id": "KQThUqEmdSee",
        "scrolled": false
      },
      "source": [
        "import requests, os, zipfile\n",
        "\n",
        "dir_name = 'dados_parlamentares' \n",
        "\n",
        "urls = ('http://www.camara.leg.br/cotas/Ano-2020.csv.zip',\n",
        "        'http://www.camara.leg.br/cotas/Ano-2019.csv.zip',\n",
        "        'http://www.camara.leg.br/cotas/Ano-2018.csv.zip',\n",
        "        'http://www.camara.leg.br/cotas/Ano-2017.csv.zip',\n",
        "        'http://www.camara.leg.br/cotas/Ano-2016.csv.zip',\n",
        "        'http://www.camara.leg.br/cotas/Ano-2015.csv.zip',\n",
        "        'http://www.camara.leg.br/cotas/Ano-2014.csv.zip', \n",
        "        'http://www.camara.leg.br/cotas/Ano-2013.csv.zip', \n",
        "        'http://www.camara.leg.br/cotas/Ano-2012.csv.zip',\n",
        "        'http://www.camara.leg.br/cotas/Ano-2011.csv.zip',\n",
        "        'http://www.camara.leg.br/cotas/Ano-2010.csv.zip',\n",
        "        'http://www.camara.leg.br/cotas/Ano-2009.csv.zip')\n",
        "\n",
        "if not os.path.exists(dir_name):\n",
        "    os.mkdir(dir_name)\n",
        "    \n",
        "for url in urls:\n",
        "    r = requests.get(url, allow_redirects=True)\n",
        "    file_name = url.split('/')[-1]\n",
        "    with open(file_name, 'wb') as f:\n",
        "        f.write(r.content)\n",
        "        with zipfile.ZipFile(file_name, 'r') as zip_ref:\n",
        "            zip_ref.extractall(dir_name)\n",
        "    if os.path.exists(file_name):\n",
        "        os.remove(file_name)"
      ],
      "execution_count": null,
      "outputs": []
    },
    {
      "cell_type": "code",
      "metadata": {
        "colab": {
          "base_uri": "https://localhost:8080/"
        },
        "id": "tWCQFPNCdSeU",
        "outputId": "ba650cd8-9d17-469a-f020-513aa25fb649"
      },
      "source": [
        "# Funcao que le os dados de um arquivo CSV e retorna a lista de rótulos (nome das colunas) e os dados.\n",
        "# Estamos levando em consideracao que todos os dados do arquivo cabem na memória do computador.\n",
        "def le_dados(filename):\n",
        "    # Abrindo o arquivo. \n",
        "    # Utilizamos o parametro 'encoding' para indicar que o arquivo possui uma codificacao especifica. \n",
        "    # Isso garante que os acentos e caracteres especiais sejam lidos adequadamente.\n",
        "    #with open(filename, 'r', encoding='ISO-8859-1') as file:\n",
        "    with open(filename, 'r', encoding='UTF-8') as file:\n",
        "        # Criando uma lista vazia para armazenar todos os dados do arquivo\n",
        "        dados = []\n",
        "\n",
        "        # Para cada linha do arquivo, realizamos as seguintes operacoes: \n",
        "        # (1) removemos o caractere '\\n' do final da linha\n",
        "        # (2) substituimos as ',' por ';' para evitar problemas com a separacao da parte decimal de valores.\n",
        "        # (3) removemos as aspas extras\n",
        "        # (4) transformamos a linha em uma lista\n",
        "        # (5) adicionamos a lista de itens na lista 'dados'\n",
        "        for line in file:\n",
        "            #dados.append(line.rstrip().replace('\",\"','\";\"').replace('\"','').split(';'))\n",
        "            dados.append(line.rstrip().replace('\",\"','\";\"').split('\";\"'))\n",
        "            dados[-1][0]=dados[-1][0].replace('\"','')\n",
        "            dados[-1][-1]=dados[-1][-1].replace('\"','')\n",
        "            \n",
        "        \n",
        "    # Separando a primeira linha do arquivo para uma lista separada de 'rotulos'\n",
        "    rotulos = dados.pop(0)\n",
        "    \n",
        "    return rotulos, dados\n",
        "\n",
        "############# BLOCO PRINCIPAL DO PROGRAMA #############\n",
        "# Apenas um teste. Fique a vontade para alterar ou apagar esse trecho de código.\n",
        "\n",
        "rotulos, dados = le_dados(\"dados_parlamentares/Ano-2019.csv\")\n",
        "\n",
        "# Para entender o formato dos dados\n",
        "print(rotulos, \"\\n\")\n",
        "print(\"Registro na primeira posição:\\n\", dados[0])\n",
        "print()\n",
        "print(\"Nome do parlamentar: \", dados[0][0])\n",
        "print(\"Número total de registros: %d\\n\" % (len(dados)))\n",
        "\n",
        "# Para identificar o índice de cada coluna nos registros\n",
        "print('Índice - Rótulo')\n",
        "for i, rotulo in enumerate(rotulos):\n",
        "    print(f'{i} - {rotulo}')"
      ],
      "execution_count": null,
      "outputs": [
        {
          "name": "stdout",
          "output_type": "stream",
          "text": [
            "['\\ufefftxNomeParlamentar', 'cpf', 'ideCadastro', 'nuCarteiraParlamentar', 'nuLegislatura', 'sgUF', 'sgPartido', 'codLegislatura', 'numSubCota', 'txtDescricao', 'numEspecificacaoSubCota', 'txtDescricaoEspecificacao', 'txtFornecedor', 'txtCNPJCPF', 'txtNumero', 'indTipoDocumento', 'datEmissao', 'vlrDocumento', 'vlrGlosa', 'vlrLiquido', 'numMes', 'numAno', 'numParcela', 'txtPassageiro', 'txtTrecho', 'numLote', 'numRessarcimento', 'vlrRestituicao', 'nuDeputadoId', 'ideDocumento', 'urlDocumento'] \n",
            "\n",
            "Registro na primeira posição:\n",
            " ['LID.GOV-CD', '', '', '', '2015', 'NA', '', '55', '13', 'FORNECIMENTO DE ALIMENTAÇÃO DO PARLAMENTAR', '0', '', 'CRISTIANE FERREIRA EPP', '037.139.030/0010-8', '693', '4', '2019-01-16T00:00:00', '111.3', '0', '111.3', '1', '2019', '0', '', '', '1554246', '', '', '2812', '6738121', 'http://camara.leg.br/cota-parlamentar/nota-fiscal-eletronica?ideDocumentoFiscal=6738121']\n",
            "\n",
            "Nome do parlamentar:  LID.GOV-CD\n",
            "Número total de registros: 289393\n",
            "\n",
            "Índice - Rótulo\n",
            "0 - ﻿txNomeParlamentar\n",
            "1 - cpf\n",
            "2 - ideCadastro\n",
            "3 - nuCarteiraParlamentar\n",
            "4 - nuLegislatura\n",
            "5 - sgUF\n",
            "6 - sgPartido\n",
            "7 - codLegislatura\n",
            "8 - numSubCota\n",
            "9 - txtDescricao\n",
            "10 - numEspecificacaoSubCota\n",
            "11 - txtDescricaoEspecificacao\n",
            "12 - txtFornecedor\n",
            "13 - txtCNPJCPF\n",
            "14 - txtNumero\n",
            "15 - indTipoDocumento\n",
            "16 - datEmissao\n",
            "17 - vlrDocumento\n",
            "18 - vlrGlosa\n",
            "19 - vlrLiquido\n",
            "20 - numMes\n",
            "21 - numAno\n",
            "22 - numParcela\n",
            "23 - txtPassageiro\n",
            "24 - txtTrecho\n",
            "25 - numLote\n",
            "26 - numRessarcimento\n",
            "27 - vlrRestituicao\n",
            "28 - nuDeputadoId\n",
            "29 - ideDocumento\n",
            "30 - urlDocumento\n"
          ]
        }
      ]
    },
    {
      "cell_type": "markdown",
      "metadata": {
        "id": "FRyiqgYcRM5Y"
      },
      "source": [
        "Tarefa 1 - Como é a evolução dos gastos ao longo dos anos?\n",
        "---------\n",
        "\n",
        "**Agora é com você!** \n",
        "\n",
        "Implemente funções para gerar um gráfico que mostra a evolução dos gastos das cotas da Câmara dos Deputados entre **2009 e 2020**.\n",
        "\n",
        "**Dica:** a informação do gasto está na coluna identificada com o rótulo 'vlrLiquido'."
      ]
    },
    {
      "cell_type": "code",
      "metadata": {
        "id": "IrsJw-raH4av"
      },
      "source": [
        "## Bibliotecas utilizadas\n",
        "\n",
        "import numpy as np\n",
        "import matplotlib.pyplot as plt\n",
        "\n",
        "from operator import itemgetter"
      ],
      "execution_count": null,
      "outputs": []
    },
    {
      "cell_type": "code",
      "metadata": {
        "colab": {
          "base_uri": "https://localhost:8080/",
          "height": 312
        },
        "id": "9pqa-dRDdSeb",
        "outputId": "0b2081a6-31fe-49d3-d028-75d851b97a19"
      },
      "source": [
        "# 2 - Uma função que retorna uma lista com os gastos totais da Câmara dos Deputados em um intervalo ('ano início' até 'ano fim')\n",
        "\n",
        "def gastos_totais_intervalo(ano_inicio, ano_fim):\n",
        "    gastos = []\n",
        "    for ano in range(ano_inicio, ano_fim + 1):\n",
        "        gasto_total_ano = 0\n",
        "        rotulos, dados = le_dados(f\"dados_parlamentares/Ano-{ano}.csv\")\n",
        "\n",
        "        # Iterar em cada registro de gasto\n",
        "        # A informação do gasto está na coluna de rótulos identificada por 'vlrLiquido'\n",
        "        index = rotulos.index('vlrLiquido')\n",
        "        for registro in dados:            \n",
        "            gasto_total_ano += float(registro[index])\n",
        "                \n",
        "        gastos.append((ano, gasto_total_ano))\n",
        "        \n",
        "    return gastos #Exemplo: [(2009, 1000), (2010, 100), (2011, 3000)]\n",
        "\n",
        "# Plota um gráfico com a série temporal dos gastos totais da Câmara dos Deputados\n",
        "# Entrada: lista de tuplas (ano, gasto)\n",
        "def plot_serie_gastos(lista):    \n",
        "    x = []\n",
        "    y = []\n",
        "    \n",
        "    for ano, gasto in lista:\n",
        "        x.append(str(ano)) \n",
        "        y.append(gasto/(10**6)) # Dividindo por 1 milhao para facilitar a representação\n",
        "\n",
        "    plt.plot(x,y)    \n",
        "\n",
        "    plt.xlabel('Ano')\n",
        "    plt.ylabel('Gasto (em milhões de reais)')\n",
        "    plt.title(f'Total de gastos parlamentares entre {x[0]} e {x[-1]}')    \n",
        "    \n",
        "    plt.xticks(rotation=60)\n",
        "    plt.grid(True)\n",
        "\n",
        "    plt.show() \n",
        "\n",
        "############# BLOCO PRINCIPAL DO PROGRAMA #############    \n",
        "INICIO = 2009\n",
        "FIM = 2020\n",
        "gastos = gastos_totais_intervalo(INICIO, FIM)\n",
        "plot_serie_gastos(gastos)\n"
      ],
      "execution_count": null,
      "outputs": [
        {
          "data": {
            "image/png": "[encoded data removed]",
            "text/plain": [
              "<Figure size 432x288 with 1 Axes>"
            ]
          },
          "metadata": {
            "needs_background": "light"
          },
          "output_type": "display_data"
        }
      ]
    },
    {
      "cell_type": "markdown",
      "metadata": {
        "id": "mKTrochORM5p"
      },
      "source": [
        "Tarefa 2 - Quais os deputados que mais gastaram?\n",
        "---------\n",
        "\n",
        "Implemente funções para gerar um gráfico de barras que mostra os **20 parlamentares** que mais gastaram em **2020**."
      ]
    },
    {
      "cell_type": "code",
      "metadata": {
        "colab": {
          "base_uri": "https://localhost:8080/",
          "height": 379
        },
        "id": "uxP5AEvhBFe_",
        "outputId": "dab512f4-9a3d-4883-c0d3-8b06283c9d82"
      },
      "source": [
        "# 3 - Uma função que retorna uma lista com os gastos totais de todos os parlamentares em um ano específico\n",
        "\n",
        "def gastos_totais_por_parlamentar(ano):\n",
        "    gastos_dict = {}\n",
        "    rotulos, dados = le_dados(f\"dados_parlamentares/Ano-{ano}.csv\")\n",
        "\n",
        "    # Iterar em cada registro de gasto\n",
        "    # A informação do gasto está na coluna de rótulos identificada por 'vlrLiquido'\n",
        "    index_nome = rotulos.index('\\ufefftxNomeParlamentar')\n",
        "    index_gasto = rotulos.index('vlrLiquido')\n",
        "    for registro in dados:   \n",
        "        nome_parlamentar = registro[index_nome]      \n",
        "        valor_gasto = float(registro[index_gasto])\n",
        "        gastos_dict[nome_parlamentar] = gastos_dict.get(nome_parlamentar, 0.0) + valor_gasto\n",
        "        \n",
        "    gastos = []\n",
        "    for parlamentar, gasto in gastos_dict.items():\n",
        "        gastos.append((parlamentar, gasto))\n",
        "    return gastos\n",
        "\n",
        "# Plota um gráfico de barras dos 20 parlamentares com os maiores gastos em um dado ano\n",
        "# Entrada: lista de tuplas (nome parlamentar, total gasto)\n",
        "def plot_gastos_deputados(gastos_par, ano):\n",
        "    # Ordena dicionário em ordem decrescente, para começar com o deputador com o\n",
        "    # maior gasto\n",
        "    gastos_ordenados = sorted(gastos_par, key=itemgetter(1), reverse=True)\n",
        "\n",
        "    valores = []\n",
        "    nomes = []\n",
        "    for deputado, valor in gastos_ordenados[:20]:\n",
        "        valores.append(float(valor)/(10**6)) # Milhoes\n",
        "        nomes.append(deputado)\n",
        "    \n",
        "    ind = np.arange(len(valores))  # the x locations for the groups\n",
        "    \n",
        "    plt.bar(ind, valores, width=0.65, color='b')\n",
        "    \n",
        "    plt.ylabel('Gasto (em milhões de R$)')\n",
        "    plt.title(f'Parlamentares que mais gastaram em {ano}')\n",
        "    \n",
        "    plt.xticks(ind, nomes, rotation=90)\n",
        "    \n",
        "    plt.show()\n",
        "\n",
        "############# BLOCO PRINCIPAL DO PROGRAMA #############\n",
        "\n",
        "ANO = 2020\n",
        "gastos_par = gastos_totais_por_parlamentar(ANO)\n",
        "plot_gastos_deputados(gastos_par, ANO)"
      ],
      "execution_count": null,
      "outputs": [
        {
          "data": {
            "image/png": "[encoded data removed]",
            "text/plain": [
              "<Figure size 432x288 with 1 Axes>"
            ]
          },
          "metadata": {
            "needs_background": "light"
          },
          "output_type": "display_data"
        }
      ]
    },
    {
      "cell_type": "markdown",
      "metadata": {
        "id": "NS2b8PoURM55"
      },
      "source": [
        "Tarefa 3 - Quais os partidos que mais gastam na média?\n",
        "---------\n",
        "\n",
        "Implemente funções para gerar um gráfico de barras que mostra o ***gasto médio*** de cada partido no ano de **2020**. Você deve exibir os dados de maneira decrescente, ou seja, do partido com o maior gasto médio para o menor.\n",
        "\n",
        "***Dica***: o gasto médio do partido X é a soma dos gastos de todos os deputados filiados ao partido X dividido pela quantidade de deputados filiados ao partido X. Cuidado com deputados que mudam de partido ao longo do ano. O rótulo 'partido' está em branco em alguns registros (verificar se é diferente da string vazia ''). "
      ]
    },
    {
      "cell_type": "code",
      "metadata": {
        "colab": {
          "base_uri": "https://localhost:8080/",
          "height": 353
        },
        "id": "LCT-Gc8WBLaq",
        "outputId": "71dcad14-771f-41f4-a5b7-2812f2002991"
      },
      "source": [
        "# 4 - Uma função que retorna os gastos médios totais dos parlamentares por partido para um ano específico.\n",
        "\n",
        "def gastos_totais_por_partido(ano):\n",
        "    # key=partido, value=dicionario (ver abaixo: gastos_parlamentares_dict)\n",
        "    gastos_partidos_dict = {}\n",
        "    rotulos, dados = le_dados(f\"dados_parlamentares/Ano-{ano}.csv\")\n",
        "\n",
        "    # Iterar em cada registro de gasto\n",
        "    index_partido = rotulos.index('sgPartido')\n",
        "    index_nome = rotulos.index('\\ufefftxNomeParlamentar')\n",
        "    index_gasto = rotulos.index('vlrLiquido')\n",
        "    for registro in dados: \n",
        "        partido = registro[index_partido]\n",
        "        nome_parlamentar = registro[index_nome]      \n",
        "        valor_gasto = float(registro[index_gasto])\n",
        "        \n",
        "        if partido is not '': # \n",
        "            # key=deputado, value=gastos            \n",
        "            gastos_parlamentares_dict = gastos_partidos_dict.get(partido, dict())\n",
        "            gastos_parlamentares_dict[nome_parlamentar] = gastos_parlamentares_dict.get(nome_parlamentar, 0.0) + valor_gasto\n",
        "            gastos_partidos_dict[partido] = gastos_parlamentares_dict         \n",
        "\n",
        "    gastos = []\n",
        "    for partido, dict_parlamentares in gastos_partidos_dict.items():\n",
        "        media = sum(dict_parlamentares.values()) / len(dict_parlamentares)\n",
        "        gastos.append((partido, media))\n",
        "    return gastos\n",
        "\n",
        "# Plota um gráfico de barras com o gasto dos partidos em um dado ano\n",
        "# Entrada: lista de tuplas (partido, total gasto)\n",
        "def plot_gastos_partidos(gastos, ano):\n",
        "    \n",
        "    \n",
        "    gastos_ordenados = sorted(gastos, key=itemgetter(1), reverse=True)\n",
        "\n",
        "    valores = []\n",
        "    nomes = []\n",
        "    for k, v in gastos_ordenados:\n",
        "        valores.append(float(v)/(10**6)) # Milhoes\n",
        "        nomes.append(k)\n",
        "    \n",
        "    ind = np.arange(len(valores))  # the x locations for the groups\n",
        "    \n",
        "    plt.bar(ind, valores, width=0.65, color='b')\n",
        "    \n",
        "    plt.title(f'Gasto médio dos partidos em {ano}')\n",
        "    plt.ylabel('Gasto (em milhões de R$)')\n",
        "    \n",
        "    plt.xticks(ind, nomes, rotation=90)\n",
        "\n",
        "    plt.show()\n",
        "\n",
        "############# BLOCO PRINCIPAL DO PROGRAMA #############    \n",
        "ANO = 2020\n",
        "gastos_partidos = gastos_totais_por_partido(ANO)\n",
        "plot_gastos_partidos(gastos_partidos, ANO)"
      ],
      "execution_count": null,
      "outputs": [
        {
          "name": "stderr",
          "output_type": "stream",
          "text": [
            "<>:17: SyntaxWarning: \"is not\" with a literal. Did you mean \"!=\"?\n",
            "<>:17: SyntaxWarning: \"is not\" with a literal. Did you mean \"!=\"?\n",
            "<ipython-input-6-f652db105e66>:17: SyntaxWarning: \"is not\" with a literal. Did you mean \"!=\"?\n",
            "  if partido is not '': #\n"
          ]
        },
        {
          "data": {
            "image/png": "[encoded data removed]",
            "text/plain": [
              "<Figure size 432x288 with 1 Axes>"
            ]
          },
          "metadata": {
            "needs_background": "light"
          },
          "output_type": "display_data"
        }
      ]
    },
    {
      "cell_type": "markdown",
      "metadata": {
        "id": "UnGgSMiJRM6I"
      },
      "source": [
        "Tarefa 4 - Quais os estados com os maiores gastos na média?\n",
        "---------\n",
        "\n",
        "Implemente funções para gerar um gráfico de barras que mostra o ***gasto médio*** de cada estado no ano de **2020**. Você deve exibir os dados de maneira decrescente, ou seja, do estado com o maior gasto médio para o menor.\n",
        "\n",
        "***Dica***: o gasto médio do estado X é a soma dos gastos de todos os deputados do estado X dividido pela quantidade de deputados do estado X. O rótulo 'sgUF' está em branco em alguns registros (verificar se é diferente da string vazia '' e diferente de 'NA')."
      ]
    },
    {
      "cell_type": "code",
      "metadata": {
        "colab": {
          "base_uri": "https://localhost:8080/",
          "height": 288
        },
        "id": "0jRzXampBRCz",
        "outputId": "e206a3cf-6e15-40c7-b182-c2834bbb6712"
      },
      "source": [
        "# 5 - Uma função que retorna os gastos médios totais dos parlamentares por estado para um ano específico.\n",
        "\n",
        "def gastos_totais_por_estado(ano):\n",
        "    gastos_estados_dict = {}\n",
        "    rotulos, dados = le_dados(f\"dados_parlamentares/Ano-{ano}.csv\")\n",
        "\n",
        "    # Iterar em cada registro de gasto\n",
        "    index_estado = rotulos.index('sgUF')\n",
        "    index_nome = rotulos.index('\\ufefftxNomeParlamentar')\n",
        "    index_gasto = rotulos.index('vlrLiquido')\n",
        "    for registro in dados: \n",
        "        estado = registro[index_estado]\n",
        "        nome_parlamentar = registro[index_nome]      \n",
        "        valor_gasto = float(registro[index_gasto])\n",
        "        \n",
        "        if estado != '' and estado != 'NA':            \n",
        "            gastos_parlamentares_dict = gastos_estados_dict.get(estado, dict())\n",
        "            gastos_parlamentares_dict[nome_parlamentar] = gastos_parlamentares_dict.get(nome_parlamentar, 0.0) + valor_gasto\n",
        "            gastos_estados_dict[estado] = gastos_parlamentares_dict         \n",
        "\n",
        "    gastos = []\n",
        "    for estado, dict_parlamentares in gastos_estados_dict.items():\n",
        "        media = sum(dict_parlamentares.values()) / len(dict_parlamentares)\n",
        "        gastos.append((estado, media))\n",
        "    return gastos\n",
        "\n",
        "# Plota um gráfico de barras com o gasto dos estados em um dado ano\n",
        "# Entrada: lista de tuplas (estado, total gasto)\n",
        "def plot_gastos_estados(gastos, ano):\n",
        "    \n",
        "    gastos_ordenados = sorted(gastos, key=itemgetter(1), reverse=True)\n",
        "\n",
        "    valores = []\n",
        "    nomes = []\n",
        "    for k, v in gastos_ordenados:\n",
        "        valores.append(float(v)/(10**6)) # Milhoes\n",
        "        nomes.append(k)\n",
        "    \n",
        "    ind = np.arange(len(valores))  # the x locations for the groups\n",
        "    \n",
        "    plt.bar(ind, valores, width=0.65, color='b')\n",
        "    \n",
        "    plt.title(f'Gasto médio dos parlamentares por estado em {ano}')\n",
        "    plt.ylabel('Gasto (em milhões de R$)')\n",
        "    \n",
        "    plt.xticks(ind, nomes, rotation=90)\n",
        "    \n",
        "    plt.show()\n",
        "\n",
        "############# BLOCO PRINCIPAL DO PROGRAMA #############\n",
        "ANO = 2020\n",
        "gastos_estados = gastos_totais_por_estado(ANO)\n",
        "plot_gastos_estados(gastos_estados, ANO)    "
      ],
      "execution_count": null,
      "outputs": [
        {
          "data": {
            "image/png": "[encoded data removed]",
            "text/plain": [
              "<Figure size 432x288 with 1 Axes>"
            ]
          },
          "metadata": {
            "needs_background": "light"
          },
          "output_type": "display_data"
        }
      ]
    }
  ]
}