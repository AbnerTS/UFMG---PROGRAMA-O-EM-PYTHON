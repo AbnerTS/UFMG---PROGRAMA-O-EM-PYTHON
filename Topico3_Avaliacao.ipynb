{
  "nbformat": 4,
  "nbformat_minor": 0,
  "metadata": {
    "colab": {
      "name": "Topico3_Avaliacao.ipynb",
      "provenance": [],
      "authorship_tag": "ABX9TyOQMReN9OmmSB2YavD5Z0nd",
      "include_colab_link": true
    },
    "kernelspec": {
      "name": "python3",
      "display_name": "Python 3"
    },
    "language_info": {
      "name": "python"
    }
  },
  "cells": [
    {
      "cell_type": "markdown",
      "metadata": {
        "id": "view-in-github",
        "colab_type": "text"
      },
      "source": [
        "<a href=\"https://colab.research.google.com/github/AbnerTS/UFMG-PROGRAMACAO-EM-PYTHON/blob/main/Topico3_Avaliacao.ipynb\" target=\"_parent\"><img src=\"https://colab.research.google.com/assets/colab-badge.svg\" alt=\"Open In Colab\"/></a>"
      ]
    },
    {
      "cell_type": "markdown",
      "metadata": {
        "id": "u0F7QqZuGPQq"
      },
      "source": [
        "##Problema 1 \n",
        "Escreva um função chamada fizz_buzz que recebe como parâmetro um número inteiro e\n",
        "retorna um número inteiro ou uma string de acordo com as regras abaixo:\n",
        "1. Se o número é divisível por 3, a função deve retornar a string \"Fizz\".\n",
        "2. Se o número é divisível por 5, a função deve retornar a string \"Buzz\".\n",
        "3. Se o número é divisível por 3 e por 5, a função deve retornar a string \"FizzBuzz\".\n",
        "4. Senão, a função deve retornar omesmo número inteiro que recebeu como parâmetro.\n",
        "\n",
        "Observação 1: O nome da função deve ser exatamente como especificado acima e seu arquivo\n",
        "deve obrigatoriamente se chamar problema1.py.\n",
        "\n",
        "Observação 2: Seu programa deve conter apenas a função descrita acima. Você não precisa\n",
        "realizar a entrada e saída de dados (não precisa usar as funções input() e print()).\n",
        "\n",
        "##Exemplo 1 de execução do programa:\n",
        "Digite um número: 10\n",
        "- Buzz\n",
        "Exemplo 2 de execução do programa:\n",
        "Digite um número: 15\n",
        "- FizzBuzz\n",
        "\n",
        "##Exemplo 3 de execução do programa:\n",
        "Digite um número: 2\n",
        "\n",
        "- 2"
      ]
    },
    {
      "cell_type": "code",
      "metadata": {
        "colab": {
          "base_uri": "https://localhost:8080/"
        },
        "id": "YfWdVMioGLtD",
        "outputId": "0ae27a04-add0-47d8-f565-5ee46cb06eb0"
      },
      "source": [
        "def fizz_buzz(n):\n",
        "    if (n % 3 == 0 and n % 5 == 0):\n",
        "        return 'FizzBuzz'\n",
        "    elif n % 3 == 0:\n",
        "        return 'Fizz'\n",
        "    elif n % 5 == 0:\n",
        "        return 'Buzz'\n",
        "    else:\n",
        "        return str(n)\n",
        "\n",
        "result =  fizz_buzz(int(input('Digite um número:')))\n",
        "print(result)"
      ],
      "execution_count": 4,
      "outputs": [
        {
          "output_type": "stream",
          "name": "stdout",
          "text": [
            "Digite um número:2\n",
            "2\n"
          ]
        }
      ]
    },
    {
      "cell_type": "markdown",
      "metadata": {
        "id": "FceElYuoGZYT"
      },
      "source": [
        "##Problema 2\n",
        "Escreva uma função chamada consumo que recebe como parâmetros a distância percorrida\n",
        "em quilômetros e a quantidade de litros de gasolina consumidos por um veículo para percorrer\n",
        "tal distância. Sua função deve retornar uma mensagem de acordo com a tabela abaixo:\n",
        "Consumo Km/l Mensagem\n",
        "- Menor que 8 | Venda o carro!\n",
        "- Entre 8 e 12 | Econômico!\n",
        "- Maior que 12 | Super econômico!\n",
        "\n",
        "Observação 1: O nome da função deve ser exatamente como especificado acima e seu arquivo\n",
        "deve obrigatoriamente se chamar problema2.py.\n",
        "\n",
        "Observação 2: Seu programa deve conter apenas a função descrita acima. Você não precisa\n",
        "realizar a entrada e saída de dados (não precisa usar as funções input() e print()).\n",
        "\n",
        "###Exemplo 1 de execução do programa:\n",
        "Digite a distância: 100\n",
        "\n",
        "Digite a quantidade de gasolina consumida: 10\n",
        "- Econômico!\n",
        "\n",
        "###Exemplo 2 de execução do programa:\n",
        "Digite a distância: 30\n",
        "\n",
        "Digite a quantidade de gasolina consumida: 4.5\n",
        "- Venda o carro!"
      ]
    },
    {
      "cell_type": "code",
      "metadata": {
        "colab": {
          "base_uri": "https://localhost:8080/"
        },
        "id": "ECxW_lFHGbwS",
        "outputId": "3b175b96-2cec-4b98-91fa-508411516f46"
      },
      "source": [
        "def consumo(distancia,litros):\n",
        "    media = distancia / litros\n",
        "    \n",
        "    if media >= 8 and media <= 12:\n",
        "        return 'Econômico!'\n",
        "    elif media < 8:\n",
        "        return 'Venda o carro!'\n",
        "    else:\n",
        "        return 'Super Econômico'\n",
        "\n",
        "d = int(input('Digite a distância:'))\n",
        "l = float(input('Digite a quantidade de gasolina consumida: '))\n",
        "result =  consumo(d, l)\n",
        "print(result)"
      ],
      "execution_count": 3,
      "outputs": [
        {
          "output_type": "stream",
          "name": "stdout",
          "text": [
            "Digite a distância:30\n",
            "Digite a quantidade de gasolina consumida: 4.5\n",
            "Venda o carro!\n"
          ]
        }
      ]
    },
    {
      "cell_type": "markdown",
      "metadata": {
        "id": "sf6TrtWxGcAB"
      },
      "source": [
        "##Problema 3\n",
        "Escreva uma função chamada estacionamento que recebe como parâmetros a hora e minuto\n",
        "de entrada e hora e minuto de saída de um estacionamento e retorna o valor total devido\n",
        "de acordo comas seguintes regras:\n",
        "\n",
        "- Quantidade de Horas | Tarifa\n",
        "- Até duas horas | R\\$ 1.00 para cada hora\n",
        "- Entre três e quatro horas | R\\$ 1.40 para cada hora\n",
        "- Acima de quatro horas | R\\$ 2.00 para cada hora\n",
        "\n",
        "O número de horas a pagar é sempre inteiro e arredondado por excesso. Deste modo, quem\n",
        "estacionar durante 61 minutos pagará por 2 horas. Os momentos de chegada e partida do\n",
        "estacionamento são apresentados na forma de pares de inteiros, representando horas e minutos.\n",
        "Por exemplo, o par 12 50 representará \"dez para a uma da tarde\". Admite-se que a\n",
        "chegada e a partida se dão comintervalo não superior a 24 horas.\n",
        "\n",
        "Observação 1: O nome da função deve ser exatamente como especificado acima e seu arquivo\n",
        "deve obrigatoriamente se chamar problema3.py.\n",
        "\n",
        "Observação 2: Seu programa deve conter apenas a função descrita acima. Você não precisa\n",
        "realizar a entrada e saída de dados (não precisa usar as funções input() e print()).\n",
        "\n",
        "###Exemplo 1 de execução do programa:\n",
        "Digite a hora de chegada: 18\n",
        "\n",
        "Digite o minuto de chegada: 50\n",
        "\n",
        "Digite a hora da partida: 22\n",
        "\n",
        "Digite o minuto da partida: 49\n",
        "- Preço: R$ 5.60\n",
        "\n",
        "###Exemplo 2 de execução do programa:\n",
        "Digite a hora de chegada: 20\n",
        "\n",
        "Digite o minuto de chegada: 30\n",
        "\n",
        "Digite a hora da partida: 8\n",
        "\n",
        "Digite o minuto da partida: 00\n",
        "\n",
        "- Preço: R$ 24.00\n",
        "\n",
        "\n",
        "\n",
        "\n",
        "\n"
      ]
    },
    {
      "cell_type": "code",
      "metadata": {
        "colab": {
          "base_uri": "https://localhost:8080/"
        },
        "id": "7zvoEg35Gegx",
        "outputId": "840c89f0-2880-4ef5-abfd-fb0a8c1c888e"
      },
      "source": [
        "def estacionamento(hrEntrada, miEntrada, hrSaida, miSaida):   \n",
        "    if (hrSaida < hrEntrada):\n",
        "        hrSaida = hrSaida + 24\n",
        "\n",
        "    periodo = hrSaida - hrEntrada\n",
        "    \n",
        "    if (miSaida > miEntrada):\n",
        "        periodo = periodo + 1\n",
        "        \n",
        "    if (periodo <= 2):\n",
        "        valor = periodo * 1.0        \n",
        "    elif(periodo <= 4):\n",
        "        valor = periodo * 1.40\n",
        "    else:\n",
        "        valor = periodo * 2.0\n",
        "        \n",
        "    return format(valor, '.2f')\n",
        "            \n",
        "            \n",
        "        \n",
        "    \n",
        "hEntrada = int(input(\"Digite a hora de chegada:\"))\n",
        "mEntrada = int(input(\"Digite o minuto de chegada:\"))\n",
        "hSaida = int(input(\"Digite a hora da partida:\"))\n",
        "mSaida = int(input(\"Digite o minuto da partida:\"))\n",
        "\n",
        "print(estacionamento(hEntrada, mEntrada, hSaida, mSaida))\n",
        "\n"
      ],
      "execution_count": 5,
      "outputs": [
        {
          "output_type": "stream",
          "name": "stdout",
          "text": [
            "Digite a hora de chegada:20\n",
            "Digite o minuto de chegada:30\n",
            "Digite a hora da partida:8\n",
            "Digite o minuto da partida:00\n",
            "24.00\n"
          ]
        }
      ]
    },
    {
      "cell_type": "code",
      "metadata": {
        "id": "8jW7qySWG_6R"
      },
      "source": [
        ""
      ],
      "execution_count": null,
      "outputs": []
    }
  ]
}