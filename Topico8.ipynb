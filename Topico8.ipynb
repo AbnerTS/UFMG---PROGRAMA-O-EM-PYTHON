{
  "nbformat": 4,
  "nbformat_minor": 0,
  "metadata": {
    "colab": {
      "name": "Topico8.ipynb",
      "provenance": [],
      "collapsed_sections": [],
      "authorship_tag": "ABX9TyPoO5UzmNcu+/DIAZmjQ/19",
      "include_colab_link": true
    },
    "kernelspec": {
      "name": "python3",
      "display_name": "Python 3"
    },
    "language_info": {
      "name": "python"
    }
  },
  "cells": [
    {
      "cell_type": "markdown",
      "metadata": {
        "id": "view-in-github",
        "colab_type": "text"
      },
      "source": [
        "<a href=\"https://colab.research.google.com/github/AbnerTS/UFMG-PROGRAMACAO-EM-PYTHON/blob/main/Topico8.ipynb\" target=\"_parent\"><img src=\"https://colab.research.google.com/assets/colab-badge.svg\" alt=\"Open In Colab\"/></a>"
      ]
    },
    {
      "cell_type": "markdown",
      "metadata": {
        "id": "6QAgBMtxcJvs"
      },
      "source": [
        "#Fibonacci"
      ]
    },
    {
      "cell_type": "code",
      "metadata": {
        "id": "QfarIROKb8AU"
      },
      "source": [
        "def fibonacci(n):\n",
        "    if(n == 1) or (n == 2):\n",
        "        return 1\n",
        "    \n",
        "    return fibonacci(n-2)+fibonacci(n-1)\n",
        "\n",
        "numero = int(input())\n",
        "\n",
        "fib = fibonacci(numero)\n",
        "\n",
        "print(fib)"
      ],
      "execution_count": null,
      "outputs": []
    },
    {
      "cell_type": "markdown",
      "metadata": {
        "id": "xC5-ws8icPdM"
      },
      "source": [
        "#Fatorial"
      ]
    },
    {
      "cell_type": "code",
      "metadata": {
        "id": "mOJsrEbjcP4j"
      },
      "source": [
        "def fatorial(n):\n",
        "    if(n ==0):\n",
        "        return 1\n",
        "        \n",
        "    return n * fatorial(n-1)\n",
        "\n",
        "numero = int(input())\n",
        "fat = fatorial(numero)\n",
        "print(fat)"
      ],
      "execution_count": null,
      "outputs": []
    },
    {
      "cell_type": "markdown",
      "metadata": {
        "id": "cHOoYMNTcU-b"
      },
      "source": [
        "####Escreva uma função recursiva chamada power que receba como parâmetros dois inteiros positivos k e n e retorna o resultado de k n. Na sua implementação, você deve utilizar apenas multiplicações. Você não deve utilizar o operador **. Em seguida, escreva um programa para testar essa função. O programa deve ler do usuário os valores de k e n, chamar a função e imprimir na tela o valor etornado pela função.\n",
        "\n",
        "- Exemplo de execução do programa:\n",
        "####Digite k: 2\n",
        "####Digite n: 3\n"
      ]
    },
    {
      "cell_type": "code",
      "metadata": {
        "id": "ZuOmLtRJdJWk"
      },
      "source": [
        "def power(k, n):\n",
        "    if(n == 0):\n",
        "        return 1\n",
        "        \n",
        "    return k * power(k, n-1)\n",
        "\n",
        "k = int(input('Digite k:'))\n",
        "n = int(input('Digite n:'))\n",
        "\n",
        "p = power(k, n)\n",
        "print(p)"
      ],
      "execution_count": null,
      "outputs": []
    },
    {
      "cell_type": "markdown",
      "metadata": {
        "id": "PiI7WGBpdUhC"
      },
      "source": [
        "####O máximo divisor comum (MDC) dos inteiros x e y é o maior divisor inteiro comum a x e y. Por exemplo, o MDC de 16 e 36 é o 4, enquanto que o MDC de 30 e 54 é o 6. Escreva uma função recursiva chamada mdc que retorna o máximo divisor comum de x e y. Em seguida, escreva um programa para testar essa função. O programa deve ler do usuário os valores de x e y, chamar a função e imprimir na tela o valor retornado pela função. O mdc de x e y é definido como segue: se y  igual a 0, então mdc(x,y) é x; caso contrário, mdc(x,y) é mdc(y, x%y), onde % é o operador resto.\n",
        "\n",
        "- Exemplo de execução do programa:\n",
        "#### Digite x: 16\n",
        "#### Digite y: 36\n",
        "#### 4"
      ]
    },
    {
      "cell_type": "code",
      "metadata": {
        "id": "kBA0v47ddprA"
      },
      "source": [
        "def mdc(a, b):\n",
        "    return a if not b else mdc(b, a % b)\n",
        "\n",
        "x = int(input('Digite x:'))\n",
        "y = int(input('Digite y:'))\n",
        "\n",
        "p = mdc(x, y)\n",
        "print(p)"
      ],
      "execution_count": null,
      "outputs": []
    },
    {
      "cell_type": "markdown",
      "metadata": {
        "id": "32_PZWSCdt3q"
      },
      "source": [
        "###Implemente uma função recursiva chamada soma que receba como parâmetro um número inteiro positivo N e retorna o somatório dos números de 1 a N. Em seguida, escreva um programa para testar essa função. O programa deve ler do usuário o valor de N, chamar a função e imprimir na tela o valor retornado pela função.\n",
        "- Exemplo de execução do programa:\n",
        "####Digite N: 4\n",
        "####10\n"
      ]
    },
    {
      "cell_type": "code",
      "metadata": {
        "id": "ImNBV5DDd47a"
      },
      "source": [
        "def soma(n):\n",
        "    if(n == 0):\n",
        "        return 0\n",
        "        \n",
        "    return n + soma(n-1)\n",
        "    #return m + soma(m+1, n)\n",
        "\n",
        "n = int(input('Digite N:'))\n",
        "\n",
        "s = soma(n)\n",
        "print(s)"
      ],
      "execution_count": null,
      "outputs": []
    }
  ]
}