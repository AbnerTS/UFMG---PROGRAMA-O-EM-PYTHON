{
  "nbformat": 4,
  "nbformat_minor": 0,
  "metadata": {
    "colab": {
      "name": "Topico2_Avaliacao.ipynb",
      "provenance": [],
      "authorship_tag": "ABX9TyNSvG0QfddVfqarpnHVPSLE",
      "include_colab_link": true
    },
    "kernelspec": {
      "name": "python3",
      "display_name": "Python 3"
    },
    "language_info": {
      "name": "python"
    }
  },
  "cells": [
    {
      "cell_type": "markdown",
      "metadata": {
        "id": "view-in-github",
        "colab_type": "text"
      },
      "source": [
        "<a href=\"https://colab.research.google.com/github/AbnerTS/UFMG-PROGRAMACAO-EM-PYTHON/blob/main/Topico2_Avaliacao.ipynb\" target=\"_parent\"><img src=\"https://colab.research.google.com/assets/colab-badge.svg\" alt=\"Open In Colab\"/></a>"
      ]
    },
    {
      "cell_type": "markdown",
      "metadata": {
        "id": "VCkTwtY4-g4g"
      },
      "source": [
        "##Problema 1\n",
        "Escreva um programa que solicita ao usuário três números inteiros e imprime na tela o número\n",
        "do meio (mediana).\n",
        "\n",
        "Observação: as mensagens exibidas para o usuário deverão ser exatamente como apresentado\n",
        "abaixo (mensagens exibidas comos comandos input() e print()).\n",
        "\n",
        "###Exemplo de execução 1 do programa:\n",
        "\n",
        "Digite o primeiro número: 2\n",
        "\n",
        "Digite o segundo número: 8\n",
        "\n",
        "Digite o terceiro número: 6\n",
        "- Mediana: 6\n",
        "\n",
        "###Exemplo de execução 2 do programa:\n",
        "Digite o primeiro número: 1\n",
        "Digite o segundo número: 3\n",
        "Digite o terceiro número: 1\n",
        "- Mediana: 1\n"
      ]
    },
    {
      "cell_type": "code",
      "metadata": {
        "colab": {
          "base_uri": "https://localhost:8080/"
        },
        "id": "kmUzKPx2-VrE",
        "outputId": "90861535-5123-443d-dbc6-68ec3924b102"
      },
      "source": [
        "n1 = int(input(\"Digite o primeiro número:\"))\n",
        "n2 = int(input(\"Digite o segundo número:\"))\n",
        "n3 = int(input(\"Digite o terceiro número:\"))\n",
        "\n",
        "mediana = 0\n",
        "\n",
        "if (n1 > n2 and n1 < n3):\n",
        "    mediana = n1\n",
        "elif(n2 > n1 and n2 < n3):\n",
        "    mediana = n2\n",
        "elif(n3 > n1 and n3 < n2):\n",
        "    mediana = n3\n",
        "elif (n1 == n2 or n1 == n3):\n",
        "    mediana = n1\n",
        "else:\n",
        "    mediana = n2\n",
        "\n",
        "print(\"Mediana: %i\" % (mediana))"
      ],
      "execution_count": 1,
      "outputs": [
        {
          "output_type": "stream",
          "name": "stdout",
          "text": [
            "Digite o primeiro número:2\n",
            "Digite o segundo número:8\n",
            "Digite o terceiro número:6\n",
            "Mediana: 6\n"
          ]
        }
      ]
    },
    {
      "cell_type": "markdown",
      "metadata": {
        "id": "1Svq76oB-i_H"
      },
      "source": [
        "##Problema 2\n",
        "Escreva um programa que solicita ao usuário três valores x, y e z e verifica se eles podem ser\n",
        "os comprimentos do lado de um triângulo. Caso eles formem um triângulo, imprima se o\n",
        "mesmo é um triângulo equilátero, isósceles ou escaleno. Considere o que segue:\n",
        "\n",
        "- Para verificar se é um triângulo, confira se os lados obedecem a desigualdade triangular:\n",
        "z < x + y e y < x + z e x < y + z.\n",
        "\n",
        "###Tipo do triângulo Lados\n",
        "Triângulo Equilátero 3 lados iguais\n",
        "Triângulo Isósceles 2 lados iguais\n",
        "Triângulo Escaleno 3 lados diferentes\n",
        "\n",
        "Observação: as mensagens exibidas para o usuário deverão ser exatamente como apresentado\n",
        "abaixo (mensagens exibidas comos comandos input() e print()).\n",
        "\n",
        "###Exemplo de execução 1 do programa:\n",
        "Digite o comprimento do primeiro lado: 1\n",
        "\n",
        "Digite o comprimento do segundo lado: 2\n",
        "\n",
        "Digite o comprimento do terceiro lado: 5\n",
        "- Não é umtriângulo\n",
        "\n",
        "###Exemplo de execução 2 do programa:\n",
        "Digite o comprimento do primeiro lado: 16\n",
        "\n",
        "Digite o comprimento do segundo lado: 20\n",
        "\n",
        "Digite o comprimento do terceiro lado: 30\n",
        "- Triângulo Escaleno\n",
        "\n",
        "###Exemplo de execução 3 do programa:\n",
        "Digite o comprimento do primeiro lado: 11\n",
        "\n",
        "Digite o comprimento do segundo lado: 11\n",
        "\n",
        "Digite o comprimento do terceiro lado: 20\n",
        "- Triângulo Isósceles\n"
      ]
    },
    {
      "cell_type": "code",
      "metadata": {
        "colab": {
          "base_uri": "https://localhost:8080/"
        },
        "id": "vgeGz5xL-lrH",
        "outputId": "485426d0-ec49-4fd1-c96e-17e7f0e4c96d"
      },
      "source": [
        "x = int(input(\"Digite o primeiro número:\"))\n",
        "y = int(input(\"Digite o segundo número:\"))\n",
        "z = int(input(\"Digite o terceiro número:\"))\n",
        "\n",
        "if (z < (x+y)) and (y < (x+z)) and (x < (y+z)):\n",
        "    if (z==x and z==y):\n",
        "        print(\"Mediana: %s\" % (\"Triângulo Equilátero\"))\n",
        "    elif (z==x or z==y or x==y):\n",
        "        print(\"Mediana: %s\" % (\"Triângulo Isósceles\"))\n",
        "    else:\n",
        "        print(\"Mediana: %s\" % (\"Triângulo Escaleno\"))\n",
        "else:\n",
        "    print(\"Não é um triângulo\")\n",
        "    "
      ],
      "execution_count": 2,
      "outputs": [
        {
          "output_type": "stream",
          "name": "stdout",
          "text": [
            "Digite o primeiro número:11\n",
            "Digite o segundo número:11\n",
            "Digite o terceiro número:20\n",
            "Mediana: Triângulo Isósceles\n"
          ]
        }
      ]
    },
    {
      "cell_type": "markdown",
      "metadata": {
        "id": "ZDTXGhAh-l9X"
      },
      "source": [
        "##Problema 3\n",
        "Escreva um programa que peça ao usuário o valor da sua hora de trabalho, a quantidade de\n",
        "horas trabalhadas no mês e calcula a sua folha de pagamento. São descontados do salário\n",
        "o Imposto de Renda, que depende do salário bruto (conforme tabela abaixo), e o INSS, que\n",
        "corresponde a 10% do salário bruto. O FGTS corresponde a 11% do salário bruto, no entanto\n",
        "o FGTS não é descontado do salário, pois é a empresa que deposita. O salário líquido corresponde\n",
        "ao salário bruto menos os descontos.\n",
        "\n",
        "###Salário Bruto Imposto de Renda\n",
        "Até R\\$900 Isento\n",
        "\n",
        "Maior que R\\$900 até R\\$1500 Desconto de 5%\n",
        "\n",
        "Maior que R\\$1500 até R\\$2500 Desconto de 10%\n",
        "\n",
        "Maior que R\\$2500 Desconto de 20%\n",
        "\n",
        "Observação: as mensagens exibidas para o usuário deverão ser exatamente como apresentado\n",
        "abaixo (mensagens exibidas comos comandos input() e print()).\n",
        "\n",
        "###Exemplo de execução 1 do programa:\n",
        "Digite o valor da hora de trabalho: 16.0\n",
        "\n",
        "Digite a quantidade de horas trabalhadas no mês: 160\n",
        "\n",
        "- Salário Bruto: R$ 2560.00\n",
        "- IR: R$ 512.00\n",
        "- INSS: R$ 256.00\n",
        "- FGTS: R$ 281.60\n",
        "- Total de descontos: R$ 768.00\n",
        "- Salário líquido: R$ 1792.00\n",
        "\n",
        "###Exemplo de execução 2 do programa:\n",
        "Digite o valor da hora de trabalho: 7.5\n",
        "\n",
        "Digite a quantidade de horas trabalhadas no mês: 120\n",
        "\n",
        "- Salário Bruto: R$ 900.00\n",
        "- IR: R$ 0.00\n",
        "- INSS: R$ 90.00\n",
        "- FGTS: R$ 99.00\n",
        "- Total de descontos: R$ 90.00\n",
        "- Salário líquido: R$ 810.00\n"
      ]
    },
    {
      "cell_type": "code",
      "metadata": {
        "colab": {
          "base_uri": "https://localhost:8080/"
        },
        "id": "aTQh2Q32_M64",
        "outputId": "9694e1ff-8100-4302-c405-ab2f7d602a0b"
      },
      "source": [
        "hora = float(input(\"Digite o valor da hora de trabalho:\"))\n",
        "hMes = int(input(\"Digite a quantidade de horas trabalhadas no mês:\"))\n",
        "\n",
        "salBruto = hora * hMes\n",
        "IR = 0.0\n",
        "INSS = 0.0\n",
        "FGTS = 0.0\n",
        "\n",
        "if(salBruto < 900):\n",
        "    IR = IR\n",
        "elif (salBruto > 900 and salBruto <= 1500):\n",
        "    IR = salBruto * 0.05\n",
        "elif (salBruto > 1500 and salBruto < 2500):\n",
        "    IR = salBruto * 0.10\n",
        "elif (salBruto > 2500):\n",
        "    IR = salBruto * 0.20\n",
        "    \n",
        "INSS = salBruto * 0.10\n",
        "FGTS = salBruto * 0.11\n",
        "\n",
        "print(\"Salário Bruto: R$ %.2f\" % (salBruto))\n",
        "print(\"IR: R$ %.2f\" % (IR))\n",
        "print(\"INSS: R$ %.2f\" % (INSS))\n",
        "print(\"FGTS: R$ %.2f\" % (FGTS))\n",
        "print(\"Total de descontos: R$ %.2f\" % (IR + INSS))\n",
        "print(\"Salário líquido: R$ %.2f\" % (salBruto - IR - INSS))\n"
      ],
      "execution_count": 4,
      "outputs": [
        {
          "output_type": "stream",
          "name": "stdout",
          "text": [
            "Digite o valor da hora de trabalho:16\n",
            "Digite a quantidade de horas trabalhadas no mês:160\n",
            "Salário Bruto: R$ 2560.00\n",
            "IR: R$ 512.00\n",
            "INSS: R$ 256.00\n",
            "FGTS: R$ 281.60\n",
            "Total de descontos: R$ 768.00\n",
            "Salário líquido: R$ 1792.00\n"
          ]
        }
      ]
    },
    {
      "cell_type": "code",
      "metadata": {
        "id": "AH_9J8Zw_P00"
      },
      "source": [
        ""
      ],
      "execution_count": null,
      "outputs": []
    }
  ]
}