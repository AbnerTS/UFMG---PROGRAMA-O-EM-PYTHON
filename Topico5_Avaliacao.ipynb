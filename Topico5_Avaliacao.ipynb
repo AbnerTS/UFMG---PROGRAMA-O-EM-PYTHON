{
  "nbformat": 4,
  "nbformat_minor": 0,
  "metadata": {
    "colab": {
      "name": "Topico5_Avaliacao.ipynb",
      "provenance": [],
      "authorship_tag": "ABX9TyPuwozkKQXXPxxbhYyrdA+V",
      "include_colab_link": true
    },
    "kernelspec": {
      "name": "python3",
      "display_name": "Python 3"
    },
    "language_info": {
      "name": "python"
    }
  },
  "cells": [
    {
      "cell_type": "markdown",
      "metadata": {
        "id": "view-in-github",
        "colab_type": "text"
      },
      "source": [
        "<a href=\"https://colab.research.google.com/github/AbnerTS/UFMG-PROGRAMACAO-EM-PYTHON/blob/main/Topico5_Avaliacao.ipynb\" target=\"_parent\"><img src=\"https://colab.research.google.com/assets/colab-badge.svg\" alt=\"Open In Colab\"/></a>"
      ]
    },
    {
      "cell_type": "markdown",
      "metadata": {
        "id": "eNcSiMC1OseH"
      },
      "source": [
        "##Problema 1\n",
        "Certo dia, o Prof. Humberto José Roberto fez o seguinte questionamento: se o zero à esquerda\n",
        "de um número não tem valor algum, por que teria em outras posições de um número? Portanto,\n",
        "ele pede sua ajuda para, ao somar dois valores inteiros, que o resultado seja exibido\n",
        "segundo o raciocínio dele, ou seja, sem os zeros. Por exemplo, ao somar 15 + 5, o resultado\n",
        "correto seria 20, mas com esta nova ideia, o novo resultado seria 2. Ao somar 99 + 6, o resultado\n",
        "correto seria 105, mas com esta nova ideia, o novo resultado seria 15.\n",
        "Escreva um programa que lê dois números inteiros (pode assumir que eles não têm o algarismo\n",
        "zero), some os mesmos e, caso o resultado tenha algum algarismo zero, então os retire\n",
        "antes de imprimir na tela.\n",
        "\n",
        "Observação: as mensagens exibidas para o usuário deverão ser exatamente como apresentado\n",
        "abaixo (mensagens exibidas comos comandos input() e print()).\n",
        "\n",
        "###Exemplo 1 de execução do programa:\n",
        "- Digite o primeiro número: 7\n",
        "- Digite o segundo número: 5\n",
        "\n",
        "Resultado: 12\n",
        "\n",
        "###Exemplo 2 de execução do programa:\n",
        "- Digite o primeiro número: 99\n",
        "- Digite o segundo número: 6\n",
        "\n",
        "Resultado: 15\n"
      ]
    },
    {
      "cell_type": "code",
      "metadata": {
        "colab": {
          "base_uri": "https://localhost:8080/"
        },
        "id": "oOdrXRTYOm0Q",
        "outputId": "aca0df89-4ecd-43e8-a179-5d0af5b4c2b2"
      },
      "source": [
        "p = int(input(\"Digite o primeiro número:\"))\n",
        "s = int(input(\"Digite o segundo número:\"))\n",
        "\n",
        "result = str(p + s)\n",
        "result = result.replace('0','')\n",
        "\n",
        "print(\"Resultado: %s\" % (result))"
      ],
      "execution_count": 1,
      "outputs": [
        {
          "output_type": "stream",
          "name": "stdout",
          "text": [
            "Digite o primeiro número:99\n",
            "Digite o segundo número:6\n",
            "Resultado: 15\n"
          ]
        }
      ]
    },
    {
      "cell_type": "markdown",
      "metadata": {
        "id": "mB2G4GI9PrUP"
      },
      "source": [
        "##Problema 2\n",
        "Escreva um programa que lê duas strings e imprime na tela as strings combinadas, alternando\n",
        "as letras de cada string, começando com a primeira letra da primeira string, seguido\n",
        "pela primeira letra da segunda string, emseguida pela segunda letra da primeira string, e assim\n",
        "sucessivamente. As letras restantes da string mais longa devem ser adicionadas ao final\n",
        "da string resultante.\n",
        "\n",
        "Observação: as mensagens exibidas para o usuário deverão ser exatamente como apresentado\n",
        "abaixo (mensagens exibidas comos comandos input() e print()).\n",
        "\n",
        "###Exemplo 1 de execução do programa:\n",
        "- Digite a primeira palavra: Tpo\n",
        "- Digite a segunda palavra: oCder\n",
        "\n",
        "Combinação: TopCoder\n",
        "\n",
        "###Exemplo 2 de execução do programa:\n",
        "- Digite a primeira palavra: aaa\n",
        "- Digite a segunda palavra: bb\n",
        "\n",
        "Combinação: ababa\n"
      ]
    },
    {
      "cell_type": "code",
      "metadata": {
        "colab": {
          "base_uri": "https://localhost:8080/"
        },
        "id": "IiJkPmMrPbaz",
        "outputId": "680aa3b0-eb7e-4616-e1d6-7dbcbe8b12cd"
      },
      "source": [
        "str1 = input(\"Digite a primeira palavra:\")\n",
        "str2 = input(\"Digite a segunda palavra:\")\n",
        "\n",
        "comb = ''\n",
        "p = 0\n",
        "s = 0\n",
        "c = 0\n",
        "\n",
        "totalStr = len(str1) + len(str2) \n",
        "\n",
        "while(c < totalStr):   \n",
        "    if (p < len(str1)):\n",
        "        comb = comb + str1[p]\n",
        "        p = p + 1\n",
        "        \n",
        "    if (s < len(str2)):\n",
        "        comb = comb + str2[s]\n",
        "        s = s + 1\n",
        "    \n",
        "    print((comb))\n",
        "    c = c + 1\n",
        "    \n",
        "print(\"Combinação: %s\" % (comb))"
      ],
      "execution_count": 2,
      "outputs": [
        {
          "output_type": "stream",
          "name": "stdout",
          "text": [
            "Digite a primeira palavra:Tpo\n",
            "Digite a segunda palavra:oCder\n",
            "To\n",
            "TopC\n",
            "TopCod\n",
            "TopCode\n",
            "TopCoder\n",
            "TopCoder\n",
            "TopCoder\n",
            "TopCoder\n",
            "Combinação: TopCoder\n"
          ]
        }
      ]
    },
    {
      "cell_type": "markdown",
      "metadata": {
        "id": "bx_zXurTP0V1"
      },
      "source": [
        "###Problema 3\n",
        "A sua impressora foi infectada por um vírus e está imprimindo de forma incorreta. Depois\n",
        "de olhar para várias páginas impressas por umtempo, você percebe que ela está imprimindo\n",
        "cada linha de dentro para fora. Em outras palavras, a metade esquerda de cada linha está\n",
        "sendo impressa a partir do meio da página até a margem esquerda. Do mesmo modo, a metade direita de cada linha está sendo impressa a partir da margem direita e prosseguindo\n",
        "em direção ao centro da página.\n",
        "\n",
        "Por exemplo a linha: \"THIS LINE IS GIBBERISH\"\n",
        "\n",
        "Está sendo impressa como: \"I ENIL SIHTHSIREBBIG S\"\n",
        "\n",
        "Da mesma foma, a linha \"MANGOS \" está sendo impressa incorretamente como \"NAMSOG\".\n",
        "Sua tarefa é desembaralhar (decifrar) a string a partir da forma como ela foi impressa para a\n",
        "sua forma original.\n",
        "Assim, escreva um programa que lê uma frase embaralhada e imprime na tela a frase correta.\n",
        "\n",
        "Observação: as mensagens exibidas para o usuário deverão ser exatamente como apresentado\n",
        "abaixo (mensagens exibidas comos comandos input() e print()).\n",
        "\n",
        "###Exemplo 1 de execução do programa:\n",
        "- Frase embaralhada: I ENIL SIHTHSIREBBIG S\n",
        "\n",
        "Frase correta: THIS LINE IS GIBBERISH\n",
        "\n",
        "###Exemplo 2 de execução do programa:\n",
        "- Frase embaralhada: LEVELKAYAK\n",
        "\n",
        "Frase correta: LEVELKAYAK\n",
        "\n",
        "###Exemplo 3 de execução do programa:\n",
        "- Frase embaralhada: H YPPAHSYADILO\n",
        "\n",
        "Frase correta: HAPPY HOLIDAYS"
      ]
    },
    {
      "cell_type": "code",
      "metadata": {
        "colab": {
          "base_uri": "https://localhost:8080/"
        },
        "id": "1NobjgbpPvPW",
        "outputId": "d2815906-e91f-4499-95f4-8c7fd082ec5f"
      },
      "source": [
        "str1 = input(\"Frase embaralhada:\")\n",
        "\n",
        "tam = len(str1) -1\n",
        "meio = int(len(str1) / 2)-1\n",
        "result = ''\n",
        "\n",
        "for s in range(meio, -1, -1):\n",
        "    result = result + str1[s]\n",
        "\n",
        "for s in range(tam, meio, -1):\n",
        "    result = result + str1[s]\n",
        "\n",
        "    \n",
        "print(\"Frase correta: %s\" % (result))\n"
      ],
      "execution_count": 3,
      "outputs": [
        {
          "output_type": "stream",
          "name": "stdout",
          "text": [
            "Frase embaralhada:H YPPAHSYADILO\n",
            "Frase correta: HAPPY HOLIDAYS\n"
          ]
        }
      ]
    },
    {
      "cell_type": "markdown",
      "metadata": {
        "id": "cZhh-yjwQD2l"
      },
      "source": [
        "##Problema 4\n",
        "Uma cifra de César é uma forma fraca de criptografia que implica em \"rotacionar\"cada letra\n",
        "por um número fixo de posições. Rotacionar uma letra significa deslocá-la pelo alfabeto,\n",
        "voltando ao início se for necessário. Portanto, ‘A’ rotacionado por 3 é ‘D’, enquanto que ‘Z’\n",
        "rotacionado por 1 é ‘A’. Para rotacionar uma palavra, faça cada letra se mover pela mesma\n",
        "quantidade de posições. Por exemplo, a palavra \"cheer\"rotacionado por 7 é a palavra \"jolly\".\n",
        "Você pode usar a função pré-definida ord, que converte um caractere em um código numérico\n",
        "e a função pré-definida chr, que converte códigos numéricos em caracteres, conforme\n",
        "os exemplos abaixo:\n",
        "\n",
        ">>> ord(`a')\n",
        "\n",
        "97\n",
        "\n",
        ">>> ord(`z')\n",
        "\n",
        "122\n",
        "\n",
        ">>> chr(97)\n",
        "\n",
        "`a'\n",
        "\n",
        ">>> chr(122)\n",
        "\n",
        "`z'\n",
        "\n",
        "As letras do alfabeto são codificadas em ordem alfabética. Por exemplo, ord(`b') é maior\n",
        "que ord(`a').\n",
        "Escreva um programa que lê uma palavra e um número inteiro e imprime na tela a palavra\n",
        "rotacionada de acordo com a cifra de César. Você pode assumir que todas as letras da palavra\n",
        "são minúsculas.\n",
        "\n",
        "Observação: as mensagens exibidas para o usuário deverão ser exatamente como apresentado\n",
        "abaixo (mensagens exibidas comos comandos input() e print()).\n",
        "\n",
        "###Exemplo 1 de execução do programa:\n",
        "- Digite uma palavra: cheer\n",
        "- Digite o valor da chave: 7\n",
        "\n",
        "Resultado: jolly\n",
        "\n",
        "###Exemplo 2 de execução do programa:\n",
        "- Digite uma palavra: xyz\n",
        "- Digite o valor da chave: 1\n",
        "\n",
        "Resultado: yza"
      ]
    },
    {
      "cell_type": "code",
      "metadata": {
        "colab": {
          "base_uri": "https://localhost:8080/"
        },
        "id": "QkGfFVw6P5wp",
        "outputId": "98901add-3e54-4053-c0ba-a293e17d4e7d"
      },
      "source": [
        "palavra = input(\"Digite uma palavra:\")\n",
        "chave = int(input(\"Digite o valor da chave:\"))\n",
        "\n",
        "result = ''\n",
        "limite = ord('z')\n",
        "\n",
        "for s in palavra:\n",
        "    if (ord(s) + chave) > 122:\n",
        "        nChar = chr(ord('a') + (ord(s) + chave)-123)\n",
        "    else:\n",
        "        nChar = chr(ord(s) + chave)\n",
        "    result = result + nChar\n",
        "\n",
        "print(\"Resultado: %s\" % (result))\n"
      ],
      "execution_count": 4,
      "outputs": [
        {
          "output_type": "stream",
          "name": "stdout",
          "text": [
            "Digite uma palavra:xyz\n",
            "Digite o valor da chave:1\n",
            "Resultado: yza\n"
          ]
        }
      ]
    },
    {
      "cell_type": "code",
      "metadata": {
        "id": "5ZWBXh05QFyZ"
      },
      "source": [
        ""
      ],
      "execution_count": null,
      "outputs": []
    }
  ]
}