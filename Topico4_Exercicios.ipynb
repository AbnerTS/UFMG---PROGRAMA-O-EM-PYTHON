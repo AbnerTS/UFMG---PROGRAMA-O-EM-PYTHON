{
  "nbformat": 4,
  "nbformat_minor": 0,
  "metadata": {
    "colab": {
      "name": "Topico4_Exercicios.ipynb",
      "provenance": [],
      "collapsed_sections": [],
      "authorship_tag": "ABX9TyNUabu8I3v7ZIC12Zu9oHXw",
      "include_colab_link": true
    },
    "kernelspec": {
      "name": "python3",
      "display_name": "Python 3"
    },
    "language_info": {
      "name": "python"
    }
  },
  "cells": [
    {
      "cell_type": "markdown",
      "metadata": {
        "id": "view-in-github",
        "colab_type": "text"
      },
      "source": [
        "<a href=\"https://colab.research.google.com/github/AbnerTS/UFMG-PROGRAMACAO-EM-PYTHON/blob/main/Topico4_Exercicios.ipynb\" target=\"_parent\"><img src=\"https://colab.research.google.com/assets/colab-badge.svg\" alt=\"Open In Colab\"/></a>"
      ]
    },
    {
      "cell_type": "markdown",
      "metadata": {
        "id": "mdRhSmFpITfg"
      },
      "source": [
        "##Problema 1\n",
        "Escreva uma função chamada populacao que receba como parâmetros o número de habitantes e a\n",
        "taxa anual de crescimento (em porcento) da população de uma cidade A, o número de habitantes e\n",
        "a taxa anual de crescimento da população de uma cidade B, e retorna o número de anos necessários\n",
        "para que a população da cidade A ultrapasse ou iguale a população da cidade B, mantidas as taxas de\n",
        "crescimento.\n",
        "\n",
        "Observação 1: O nome da função deve ser exatamente como especificado acima e seu arquivo deve\n",
        "obrigatoriamente se chamar problema1.py.\n",
        "\n",
        "Observação 2: Seu programa deve conter apenas a função descrita acima. Você não precisa realizar a\n",
        "entrada e saída de dados (não precisa usar as funções input() e print()).\n",
        "\n",
        "###Exemplo de execução do programa:\n",
        "- Digite a população da cidade A: 80000\n",
        "- Digite a taxa de crescimento da população da cidade A: 3\n",
        "- Digite a população da cidade B: 200000\n",
        "- Digite a taxa de crescimento da população da cidade B: 1.5\n",
        "\n",
        "Resultado: 63"
      ]
    },
    {
      "cell_type": "code",
      "metadata": {
        "colab": {
          "base_uri": "https://localhost:8080/"
        },
        "id": "-HzlmEMfIOaw",
        "outputId": "75ddc0ff-ec52-4f18-a844-1c71d1f368c5"
      },
      "source": [
        "def populacao(habA, txA, habB, txB):\n",
        "    anos = 0\n",
        "    while(habA <= habB):\n",
        "        habA = habA * ((txA / 100)+1)\n",
        "        habB = habB * ((txB / 100)+1)\n",
        "        anos = anos + 1\n",
        "    \n",
        "    return anos\n",
        "    \n",
        "pCidadeA = int(input(\"Digite a população da cidade A:\"))\n",
        "tCidadeA = float(input(\"Digite a taxa de crescimento da população da cidade A:\"))\n",
        "pCidadeB = int(input(\"Digite a população da cidade B:\"))\n",
        "tCidadeB = float(input(\"Digite a taxa de crescimento da população da cidade B:\"))\n",
        "\n",
        "print(populacao(pCidadeA, tCidadeA, pCidadeB, tCidadeB))"
      ],
      "execution_count": 2,
      "outputs": [
        {
          "output_type": "stream",
          "name": "stdout",
          "text": [
            "Digite a população da cidade A:80000\n",
            "Digite a taxa de crescimento da população da cidade A:3\n",
            "Digite a população da cidade B:200000\n",
            "Digite a taxa de crescimento da população da cidade B:1.5\n",
            "63\n"
          ]
        }
      ]
    },
    {
      "cell_type": "markdown",
      "metadata": {
        "id": "_mGsFTJNIfmh"
      },
      "source": [
        "##Problema 2\n",
        "Desenvolva um gerador de tabuada, capaz de gerar a tabuada de qualquer número inteiro entre 1 e\n",
        "10. O usuário deve informar de qual número ele deseja ver a tabuada.\n",
        "Observação: asmensagens exibidas para o usuário deverão ser exatamente como apresentado abaixo\n",
        "(mensagens exibidas com os comandos input() e print()).\n",
        "\n",
        "###Exemplo de execução do programa:\n",
        "- Digite um inteiro: 5\n",
        "- Tabuada de 5:\n",
        "* 5 X 1 = 5\n",
        "* 5 X 2 = 10\n",
        "* ...\n",
        "* 5 X 10 = 50\n"
      ]
    },
    {
      "cell_type": "code",
      "metadata": {
        "colab": {
          "base_uri": "https://localhost:8080/"
        },
        "id": "_1Gkw_k7Iigw",
        "outputId": "bd0d82eb-7f52-412a-c936-fd62b6bd44d0"
      },
      "source": [
        "num = int(input(\"Digite um inteiro:\"))\n",
        "\n",
        "print(\"Tabuada de %i:\" % num)\n",
        "for n in range(1,11):\n",
        "    print(\"%i X %i = %i\" % (num, n, num * n))\n",
        "\n"
      ],
      "execution_count": 3,
      "outputs": [
        {
          "output_type": "stream",
          "name": "stdout",
          "text": [
            "Digite um inteiro:5\n",
            "Tabuada de 5:\n",
            "5 X 1 = 5\n",
            "5 X 2 = 10\n",
            "5 X 3 = 15\n",
            "5 X 4 = 20\n",
            "5 X 5 = 25\n",
            "5 X 6 = 30\n",
            "5 X 7 = 35\n",
            "5 X 8 = 40\n",
            "5 X 9 = 45\n",
            "5 X 10 = 50\n"
          ]
        }
      ]
    },
    {
      "cell_type": "markdown",
      "metadata": {
        "id": "B_mqzVmBIitn"
      },
      "source": [
        "##Problema 3\n",
        "O Sr. Manoel Joaquim possui uma grande loja de artigos de R$ 1,99, com cerca de 10 caixas. Para agilizar\n",
        "o cálculo de quanto cada cliente deve pagar ele desenvolveu uma tabela que contém o número de\n",
        "itens que o cliente comprou e ao lado o valor da conta. Desta forma, a atendente do caixa precisa apenas\n",
        "contar quantos itens o cliente está levando e olhar na tabela de preços. Você foi contratado para\n",
        "desenvolver o programa que monta esta tabela de preços, que conterá os preços de 1 até 50 produtos.\n",
        "Observação: asmensagens exibidas para o usuário deverão ser exatamente como apresentado abaixo\n",
        "(mensagens exibidas com os comandos input() e print()).\n",
        "\n",
        "###Exemplo de execução do programa:\n",
        "- Loja Quase Dois - Tabela de preços\n",
        "* 1 - R$ 1.99\n",
        "* 2 - R$ 3.98\n",
        "* ...\n",
        "* 50 - R$ 99.50\n"
      ]
    },
    {
      "cell_type": "code",
      "metadata": {
        "colab": {
          "base_uri": "https://localhost:8080/"
        },
        "id": "hyDWnBDkIl0n",
        "outputId": "87811799-882f-49c1-f1c4-d340765620a3"
      },
      "source": [
        "print(\"Loja Quase Dois - Tabela de preços\")\n",
        "cont = 0\n",
        "valor = 1.0\n",
        "\n",
        "for n in range(1,51):\n",
        "    cont = cont + 1\n",
        "    valor = n * 1.99\n",
        "    print(\"%i - R$ %.2f\" % (n, valor))\n"
      ],
      "execution_count": 4,
      "outputs": [
        {
          "output_type": "stream",
          "name": "stdout",
          "text": [
            "Loja Quase Dois - Tabela de preços\n",
            "1 - R$ 1.99\n",
            "2 - R$ 3.98\n",
            "3 - R$ 5.97\n",
            "4 - R$ 7.96\n",
            "5 - R$ 9.95\n",
            "6 - R$ 11.94\n",
            "7 - R$ 13.93\n",
            "8 - R$ 15.92\n",
            "9 - R$ 17.91\n",
            "10 - R$ 19.90\n",
            "11 - R$ 21.89\n",
            "12 - R$ 23.88\n",
            "13 - R$ 25.87\n",
            "14 - R$ 27.86\n",
            "15 - R$ 29.85\n",
            "16 - R$ 31.84\n",
            "17 - R$ 33.83\n",
            "18 - R$ 35.82\n",
            "19 - R$ 37.81\n",
            "20 - R$ 39.80\n",
            "21 - R$ 41.79\n",
            "22 - R$ 43.78\n",
            "23 - R$ 45.77\n",
            "24 - R$ 47.76\n",
            "25 - R$ 49.75\n",
            "26 - R$ 51.74\n",
            "27 - R$ 53.73\n",
            "28 - R$ 55.72\n",
            "29 - R$ 57.71\n",
            "30 - R$ 59.70\n",
            "31 - R$ 61.69\n",
            "32 - R$ 63.68\n",
            "33 - R$ 65.67\n",
            "34 - R$ 67.66\n",
            "35 - R$ 69.65\n",
            "36 - R$ 71.64\n",
            "37 - R$ 73.63\n",
            "38 - R$ 75.62\n",
            "39 - R$ 77.61\n",
            "40 - R$ 79.60\n",
            "41 - R$ 81.59\n",
            "42 - R$ 83.58\n",
            "43 - R$ 85.57\n",
            "44 - R$ 87.56\n",
            "45 - R$ 89.55\n",
            "46 - R$ 91.54\n",
            "47 - R$ 93.53\n",
            "48 - R$ 95.52\n",
            "49 - R$ 97.51\n",
            "50 - R$ 99.50\n"
          ]
        }
      ]
    },
    {
      "cell_type": "markdown",
      "metadata": {
        "id": "2MHwzaqgImKX"
      },
      "source": [
        "##Problema 4\n",
        "O Sr. Manoel Joaquim acaba de adquirir uma panificadora e pretende implantar a metodologia da tabelinha,\n",
        "que já é umsucesso na sua loja de 1,99. Você foi contratado para desenvolver o programa que\n",
        "monta a tabela de preços de pães, de 1 até 50 pães, a partir do preço do pão informado pelo usuário.\n",
        "\n",
        "Observação: asmensagens exibidas para o usuário deverão ser exatamente como apresentado abaixo\n",
        "(mensagens exibidas com os comandos input() e print()).\n",
        "\n",
        "###Exemplo de execução do programa:\n",
        "- Digite o preço do pão: 0.18\n",
        "* 1 - R$ 0.18\n",
        "* 2 - R$ 0.36\n",
        "* ...\n",
        "* 50 - R$ 9.00\n"
      ]
    },
    {
      "cell_type": "code",
      "metadata": {
        "colab": {
          "base_uri": "https://localhost:8080/"
        },
        "id": "12GbAfndIofJ",
        "outputId": "97a1ba94-1e74-4948-b4ce-d4bd39044ca0"
      },
      "source": [
        "preco = float(input(\"Digite o preço do pão:\"))\n",
        "\n",
        "cont = 0\n",
        "valor = 1.0\n",
        "\n",
        "for n in range(1,51):\n",
        "    cont = cont + 1\n",
        "    valor = n * preco\n",
        "    print(\"%i - R$ %.2f\" % (n, valor))"
      ],
      "execution_count": 5,
      "outputs": [
        {
          "output_type": "stream",
          "name": "stdout",
          "text": [
            "Digite o preço do pão:0.18\n",
            "1 - R$ 0.18\n",
            "2 - R$ 0.36\n",
            "3 - R$ 0.54\n",
            "4 - R$ 0.72\n",
            "5 - R$ 0.90\n",
            "6 - R$ 1.08\n",
            "7 - R$ 1.26\n",
            "8 - R$ 1.44\n",
            "9 - R$ 1.62\n",
            "10 - R$ 1.80\n",
            "11 - R$ 1.98\n",
            "12 - R$ 2.16\n",
            "13 - R$ 2.34\n",
            "14 - R$ 2.52\n",
            "15 - R$ 2.70\n",
            "16 - R$ 2.88\n",
            "17 - R$ 3.06\n",
            "18 - R$ 3.24\n",
            "19 - R$ 3.42\n",
            "20 - R$ 3.60\n",
            "21 - R$ 3.78\n",
            "22 - R$ 3.96\n",
            "23 - R$ 4.14\n",
            "24 - R$ 4.32\n",
            "25 - R$ 4.50\n",
            "26 - R$ 4.68\n",
            "27 - R$ 4.86\n",
            "28 - R$ 5.04\n",
            "29 - R$ 5.22\n",
            "30 - R$ 5.40\n",
            "31 - R$ 5.58\n",
            "32 - R$ 5.76\n",
            "33 - R$ 5.94\n",
            "34 - R$ 6.12\n",
            "35 - R$ 6.30\n",
            "36 - R$ 6.48\n",
            "37 - R$ 6.66\n",
            "38 - R$ 6.84\n",
            "39 - R$ 7.02\n",
            "40 - R$ 7.20\n",
            "41 - R$ 7.38\n",
            "42 - R$ 7.56\n",
            "43 - R$ 7.74\n",
            "44 - R$ 7.92\n",
            "45 - R$ 8.10\n",
            "46 - R$ 8.28\n",
            "47 - R$ 8.46\n",
            "48 - R$ 8.64\n",
            "49 - R$ 8.82\n",
            "50 - R$ 9.00\n"
          ]
        }
      ]
    },
    {
      "cell_type": "markdown",
      "metadata": {
        "id": "KQEayS56Iot3"
      },
      "source": [
        "##Problema 5\n",
        "Faça um programa que leia um número inteiro e imprima na tela se ele é ou não um número primo.\n",
        "Umnúmero primo é aquele que é divisível somente por ele mesmo e por 1.\n",
        "\n",
        "Observação: asmensagens exibidas para o usuário deverão ser exatamente como apresentado abaixo\n",
        "(mensagens exibidas com os comandos input() e print()).\n",
        "\n",
        "###Exemplo de execução do programa:\n",
        "- Digite um inteiro n: 2\n",
        "* É primo\n",
        "\n",
        "###Exemplo de execução do programa:\n",
        "- Digite um inteiro n: 4\n",
        "* Não é primo"
      ]
    },
    {
      "cell_type": "code",
      "metadata": {
        "colab": {
          "base_uri": "https://localhost:8080/"
        },
        "id": "cKTEi-wKIsPY",
        "outputId": "a6abffb1-c760-4e3d-eb0f-e9874750f406"
      },
      "source": [
        "num = int(input(\"Digite um inteiro n:\"))\n",
        "\n",
        "count = 0\n",
        "result = 0\n",
        "for n in range(1, num+1):\n",
        "    if(num % n) == 0:\n",
        "        count = count + 1\n",
        "\n",
        "if (count == 2):\n",
        "    print(\"É primo\")\n",
        "else:\n",
        "    print(\"Não é primo\")\n",
        "          \n",
        "    "
      ],
      "execution_count": 6,
      "outputs": [
        {
          "output_type": "stream",
          "name": "stdout",
          "text": [
            "Digite um inteiro n:4\n",
            "Não é primo\n"
          ]
        }
      ]
    },
    {
      "cell_type": "markdown",
      "metadata": {
        "id": "oVOjY-DnIs3Y"
      },
      "source": [
        "##Problema 6\n",
        "A série de Fibonacci é formada pela sequência 1, 1, 2, 3, 5, 8, 13, 21, 34, 55,... Faça um programa que\n",
        "imprima na tela o n-ésimo termo, onde n é uminteiro informado pelo usuário.\n",
        "\n",
        "Observação: asmensagens exibidas para o usuário deverão ser exatamente como apresentado abaixo\n",
        "(mensagens exibidas com os comandos input() e print()).\n",
        "\n",
        "###Exemplo de execução do programa:\n",
        "- Digite um inteiro n: 7\n",
        "\n",
        "Resultado: 13\n",
        "\n",
        "###Exemplo de execução do programa:\n",
        "- Digite um inteiro n: 3\n",
        "\n",
        "Resultado: 2"
      ]
    },
    {
      "cell_type": "code",
      "metadata": {
        "colab": {
          "base_uri": "https://localhost:8080/"
        },
        "id": "XBEqxbBsIzPR",
        "outputId": "c65b48eb-8782-441a-c490-77e3d641b66c"
      },
      "source": [
        "pos = float(input(\"Digite um inteiro n:\"))\n",
        "\n",
        "ultimo=1\n",
        "penultimo=1\n",
        "\n",
        "\n",
        "if (pos==1) or (pos==2):\n",
        "    print(\"1\")\n",
        "else:\n",
        "    count=3\n",
        "    while count <= pos:\n",
        "        termo = ultimo + penultimo\n",
        "        penultimo = ultimo\n",
        "        ultimo = termo\n",
        "        count += 1\n",
        "    print(termo)"
      ],
      "execution_count": 7,
      "outputs": [
        {
          "output_type": "stream",
          "name": "stdout",
          "text": [
            "Digite um inteiro n:3\n",
            "2\n"
          ]
        }
      ]
    },
    {
      "cell_type": "code",
      "metadata": {
        "id": "Hv-z-g2SJxjc"
      },
      "source": [
        ""
      ],
      "execution_count": null,
      "outputs": []
    }
  ]
}