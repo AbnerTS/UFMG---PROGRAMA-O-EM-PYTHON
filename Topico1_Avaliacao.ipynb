{
  "nbformat": 4,
  "nbformat_minor": 0,
  "metadata": {
    "colab": {
      "name": "Topico1_Avaliacao.ipynb",
      "provenance": [],
      "collapsed_sections": [],
      "authorship_tag": "ABX9TyOcoFuJTSQ4FvyzQuyZ/6HJ",
      "include_colab_link": true
    },
    "kernelspec": {
      "name": "python3",
      "display_name": "Python 3"
    },
    "language_info": {
      "name": "python"
    }
  },
  "cells": [
    {
      "cell_type": "markdown",
      "metadata": {
        "id": "view-in-github",
        "colab_type": "text"
      },
      "source": [
        "<a href=\"https://colab.research.google.com/github/AbnerTS/UFMG-PROGRAMACAO-EM-PYTHON/blob/main/Topico1_Avaliacao.ipynb\" target=\"_parent\"><img src=\"https://colab.research.google.com/assets/colab-badge.svg\" alt=\"Open In Colab\"/></a>"
      ]
    },
    {
      "cell_type": "markdown",
      "metadata": {
        "id": "cJ9a1c7lRELZ"
      },
      "source": [
        "# Tópico 1 - Variáveis, atribuições e operações aritméticas"
      ]
    },
    {
      "cell_type": "markdown",
      "metadata": {
        "id": "Hyy9ftcmRz1z"
      },
      "source": [
        "##  Problema 1\n",
        "\n",
        "Escreva um programa que solicita ao usuário ummontante inicial de investimento (vp), uma taxa de juros anual (i ) e o número de anos (n) que durará esse investimento. O programa deverá imprimir na tela o valor futuro (v f ) do investimento. \n",
        "\n",
        "Considere a seguinte fórmula:\n",
        "- vf = vp x(1+(i * 0.01))n\n",
        "\n",
        "Observação: as mensagens exibidas para o usuário deverão ser exatamente como apresentado\n",
        "abaixo (mensagens exibidas comos comandos input() e print()).\n",
        "\n",
        "### Exemplo 1 de execução do programa:\n",
        "Digite o valor do investimento inicial: 10000\n",
        "\n",
        "Digite a taxa de juros anual: 3.5\n",
        "\n",
        "Digite o período do investimento em anos: 7\n",
        "\n",
        "Valor futuro: 12722.79\n",
        "\n",
        "\n",
        "###Exemplo 2 de execução do programa:\n",
        "Digite o valor do investimento inicial: 4030.50\n",
        "\n",
        "Digite a taxa de juros anual: 2.0\n",
        "\n",
        "Digite o período do investimento em anos: 3\n",
        "\n",
        "Valor futuro: 4277.20"
      ]
    },
    {
      "cell_type": "markdown",
      "metadata": {
        "id": "NLjJvzexSTDp"
      },
      "source": [
        ""
      ]
    },
    {
      "cell_type": "code",
      "metadata": {
        "colab": {
          "base_uri": "https://localhost:8080/"
        },
        "id": "CLPNAmXwSFy-",
        "outputId": "de401a56-f7e2-4282-fbb1-b2c82b8df7f2"
      },
      "source": [
        "vp = float(input(\"Digite o valor do investimento inicial:\"))\n",
        "i = float(input(\"Digite a taxa de juros anual:\"))\n",
        "n = int(input(\"Digite o período do investimento em anos:\"))\n",
        "\n",
        "vf = vp * (1 + (i * 0.01)) ** n\n",
        "\n",
        "print(\"Valor futuro: %.2f\" % (vf))\n",
        "\n"
      ],
      "execution_count": 1,
      "outputs": [
        {
          "output_type": "stream",
          "name": "stdout",
          "text": [
            "Digite o valor do investimento inicial:1000\n",
            "Digite a taxa de juros anual:3.5\n",
            "Digite o período do investimento em anos:7\n",
            "Valor futuro: 1272.28\n"
          ]
        }
      ]
    },
    {
      "cell_type": "markdown",
      "metadata": {
        "id": "_-l1LzOeTcM8"
      },
      "source": [
        "##Problema 2\n",
        "\n",
        "Escreva um programa que solicita ao usuário o pesoemquilos e a alturaemmetros e imprime\n",
        "na tela o Índice deMassa Corporal (IMC). Considere a seguinte fórmula:\n",
        "\n",
        "• IMC = peso / altura ^2\n",
        "\n",
        "Observação: as mensagens exibidas para o usuário deverão ser exatamente como apresentado\n",
        "abaixo (mensagens exibidas comos comandos input() e print()).\n",
        "\n",
        "###Exemplo de execução do programa:\n",
        "Digite o peso (kg): 60.1\n",
        "\n",
        "Digite a altura (m): 1.64\n",
        "\n",
        "IMC: 22.35"
      ]
    },
    {
      "cell_type": "code",
      "metadata": {
        "colab": {
          "base_uri": "https://localhost:8080/"
        },
        "id": "K_nyrzcjTeEb",
        "outputId": "917b61ff-c17f-4f7d-ebae-33d0f975328f"
      },
      "source": [
        "peso = float(input(\"Digite o peso (kg):\"))\n",
        "altura = float(input(\"Digite a altura (m):\"))\n",
        "\n",
        "imc = peso / (altura**2)\n",
        "\n",
        "print(\"IMC: %.2f\" % (imc))"
      ],
      "execution_count": 2,
      "outputs": [
        {
          "output_type": "stream",
          "name": "stdout",
          "text": [
            "Digite o peso (kg):60.1\n",
            "Digite a altura (m):1.64\n",
            "IMC: 22.35\n"
          ]
        }
      ]
    },
    {
      "cell_type": "markdown",
      "metadata": {
        "id": "1p53tQnATeeM"
      },
      "source": [
        "\n",
        "##Problema 3\n",
        "Escreva um programa que solicita ao usuário um número inteiro de 4 algarismos e imprime\n",
        "na tela a soma destes algarismos.\n",
        "\n",
        "Observação: as mensagens exibidas para o usuário deverão ser exatamente como apresentado\n",
        "abaixo (mensagens exibidas comos comandos input() e print()).\n",
        "\n",
        "###Exemplo de execução do programa:\n",
        "Digite um inteiro de 4 algarismos: 1234\n",
        "\n",
        "Resultado: 10"
      ]
    },
    {
      "cell_type": "code",
      "metadata": {
        "colab": {
          "base_uri": "https://localhost:8080/"
        },
        "id": "nO0bf2LEThls",
        "outputId": "9bb4e189-39ae-40c7-a8c0-58dc1de0a5e4"
      },
      "source": [
        "inteiro = int(input(\"Digite um inteiro de 4 algarismos:\"))\n",
        "\n",
        "unidade = inteiro % 10\n",
        "dezena = int((inteiro % 100)/10)\n",
        "centena = int((inteiro % 1000)/100)\n",
        "milhar = int(inteiro / 1000)\n",
        "soma = unidade + dezena + centena + milhar\n",
        "\n",
        "print(\"Resultado: %.i\" % (soma))"
      ],
      "execution_count": 3,
      "outputs": [
        {
          "output_type": "stream",
          "name": "stdout",
          "text": [
            "Digite um inteiro de 4 algarismos:1234\n",
            "Resultado: 10\n"
          ]
        }
      ]
    },
    {
      "cell_type": "markdown",
      "metadata": {
        "id": "yrFxdtwzTh3E"
      },
      "source": [
        ""
      ]
    }
  ]
}