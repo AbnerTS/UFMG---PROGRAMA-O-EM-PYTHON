{
  "nbformat": 4,
  "nbformat_minor": 0,
  "metadata": {
    "colab": {
      "name": "Topico7_Avaliacao.ipynb",
      "provenance": [],
      "authorship_tag": "ABX9TyMeQXOKdIk6aO+NTdl0vvvr",
      "include_colab_link": true
    },
    "kernelspec": {
      "name": "python3",
      "display_name": "Python 3"
    },
    "language_info": {
      "name": "python"
    }
  },
  "cells": [
    {
      "cell_type": "markdown",
      "metadata": {
        "id": "view-in-github",
        "colab_type": "text"
      },
      "source": [
        "<a href=\"https://colab.research.google.com/github/AbnerTS/UFMG-PROGRAMACAO-EM-PYTHON/blob/main/Topico7_Avaliacao.ipynb\" target=\"_parent\"><img src=\"https://colab.research.google.com/assets/colab-badge.svg\" alt=\"Open In Colab\"/></a>"
      ]
    },
    {
      "cell_type": "markdown",
      "metadata": {
        "id": "2CkM46dNasvN"
      },
      "source": [
        "#Problema 1\n",
        "##Escreva um programa que lê um arquivo chamado notas.txt que contém em cada linha o nome de umaluno e quatro notas entre 0 e 100. O programa deve então exibir na tela a maior\n",
        "e a menor média dentre todos os alunos.\n",
        "\n",
        "Observação: as mensagens exibidas para o usuário deverão ser exatamente como apresentado abaixo (mensagens exibidas comos comandos input() e print()).\n",
        "###Exemplo de execução do programa:\n",
        "- Assumindo que o arquivo notas.txt possui o conteúdo abaixo:\n",
        "#####Leo 45 50 38 40\n",
        "#####Joe 100 50 55 60\n",
        "#####Lua 98 100 95 100\n",
        "#####Mia 12 50 80 100\n",
        "\n",
        "- Seu programa deve imprimir:\n",
        "#####98.25\n",
        "#####43.25\n"
      ]
    },
    {
      "cell_type": "code",
      "metadata": {
        "id": "xHYvorntaxaj"
      },
      "source": [
        "with open(\"notas.txt\", \"r\") as arquivo:\n",
        "    notas = []\n",
        "    maior = 0.00\n",
        "    menor = 100.00\n",
        "    for linha in arquivo:\n",
        "        media = 0.00\n",
        "        notas = linha.split()\n",
        "        c = None\n",
        "        for c, nota in enumerate(notas):\n",
        "            if(c > 0):\n",
        "                media = media + float(nota)\n",
        "        media = \"{:.2f}\".format(media/c)\n",
        "        notas.append(media)\n",
        "        #print(\"Nome: %s - Média: %.2f\" % (notas[0], float(notas[c+1])))\n",
        "        if (float(media) < menor):\n",
        "            menor = float(media)\n",
        "        \n",
        "        if (float(media) > maior):\n",
        "            maior = float(media)\n",
        "\n",
        "print(maior)\n",
        "print(menor)"
      ],
      "execution_count": null,
      "outputs": []
    },
    {
      "cell_type": "markdown",
      "metadata": {
        "id": "KFto_2LoauDK"
      },
      "source": [
        "#Problema 2\n",
        "##Escreva um programa que pede ao usuário para digitar um inteiro n, em seguida lê um arquivo chamado texto.txt e então imprime na tela todas as palavras do arquivo com um\n",
        "número de caracteresmenor ou igual a n, mantendo a ordem com que as palavras aparecem no texto.\n",
        "Observação: as mensagens exibidas para o usuário deverão ser exatamente como apresentado abaixo (mensagens exibidas comos comandos input() e print()).\n",
        "\n",
        "###Exemplo de execução do programa:\n",
        "- Assumindo que o arquivo texto.txt possui o conteúdo abaixo:\n",
        "#####The book is on the table!\n",
        "#####Hi!\n",
        "#####I?m good, but thanks for the offer.\n",
        "#####I can?t believe how cold it is today!\n",
        "#####If you have a moment, I would love your thoughts on this.\n",
        "#####Hi!\n",
        "\n",
        "- A execução do seu programa deve ser como exemplificado abaixo:\n",
        "-- Digite um inteiro: 2\n",
        "#####is\n",
        "#####on\n",
        "#####I\n",
        "#####it\n",
        "#####is\n",
        "#####If\n",
        "#####a\n",
        "#####I\n",
        "#####on\n"
      ]
    },
    {
      "cell_type": "code",
      "metadata": {
        "id": "jqlwnnmDayPr"
      },
      "source": [
        "n = int(input('Digite um inteiro:'))\n",
        "with open(\"texto.txt\", \"r\") as arquivo:\n",
        "    for linha in arquivo:\n",
        "        palavras = linha.split()\n",
        "        c = None\n",
        "        for c, palavra in enumerate(palavras):\n",
        "            if(len(palavra) <= n):\n",
        "                print(palavra)"
      ],
      "execution_count": null,
      "outputs": []
    },
    {
      "cell_type": "markdown",
      "metadata": {
        "id": "8YFCUvn4a2lL"
      },
      "source": [
        "#Problema 3\n",
        "##Escreva um programa que lê um arquivo chamado datas.txt que contém uma lista de nomes seguida pela data de nascimento da pessoa e então imprima na tela o nome e a idade da\n",
        "pessoa na data de 05/10/2020. \n",
        "Observação: as mensagens exibidas para o usuário deverão ser exatamente como apresentado abaixo (mensagens exibidas comos comandos input() e print()).\n",
        "###Exemplo de execução do programa:\n",
        "- Assumindo que o arquivo datas.txt possui o conteúdo abaixo:\n",
        "#####Seb 24/03/1990\n",
        "#####Fer 11/06/1995\n",
        "#####Her 31/08/1986\n",
        "#####Off 10/06/1980\n",
        "\n",
        "-Seu programa deve imprimir:\n",
        "#####Nome: Seb\n",
        "#####Idade: 30 anos\n",
        "#####Nome: Fer\n",
        "#####Idade: 25 anos\n",
        "#####Nome: Her\n",
        "#####Idade: 34 anos\n",
        "#####Nome: Off\n",
        "#####Idade: 40 anos"
      ]
    },
    {
      "cell_type": "code",
      "metadata": {
        "id": "rdv3vk1ma9v7"
      },
      "source": [
        "def calcula_idade(nascimento):\n",
        "    data = '05/10/2020'\n",
        "    data = data.replace('/','').rstrip()\n",
        "    \n",
        "    diaAtual = int(data[:2])\n",
        "    mesAtual = int(data[2:4])\n",
        "    anoAtual = int(data[4:])    \n",
        "    \n",
        "    dataNasc = nascimento.replace('/','').rstrip()\n",
        "    diaNasc = int(dataNasc[:2])\n",
        "    mesNasc = int(dataNasc[2:4])\n",
        "    anoNasc = int(dataNasc[4:])\n",
        "    \n",
        "    c = ((mesAtual, diaAtual) < (mesNasc, diaNasc))\n",
        "    c2 = (diaAtual< diaNasc)\n",
        "    return anoAtual - anoNasc - c #, c*12+t.month-b.month-c2\n",
        "    #return c*12+mesAtual-mesNasc-c2\n",
        "\n",
        "\n",
        "with open(\"datas.txt\", \"r\") as arquivo:\n",
        "    for linha in arquivo:\n",
        "        datas = linha.split()\n",
        "        c = None\n",
        "        for c, data in enumerate(datas):\n",
        "            if (c < 1):\n",
        "                print('Nome: %s' % data)\n",
        "            else:\n",
        "                print('Idade: %s anos' % str(calcula_idade(data)))\n",
        "                "
      ],
      "execution_count": null,
      "outputs": []
    },
    {
      "cell_type": "code",
      "metadata": {
        "id": "L9g8Cs_VbMq7"
      },
      "source": [
        "def calcula_idade(nascimento):\n",
        "    data = '05/10/2020'\n",
        "    data = data.replace('/','').rstrip()\n",
        "    anoAtual = int(data[4:])\n",
        "    \n",
        "    dataNasc = nascimento.replace('/','').rstrip()\n",
        "    anoNasc = int(dataNasc[4:])\n",
        "    \n",
        "    return anoAtual - anoNasc\n",
        "\n",
        "with open(\"datas.txt\", \"r\") as arquivo:\n",
        "    for linha in arquivo:\n",
        "        datas = linha.split()\n",
        "        c = None\n",
        "        for c, data in enumerate(datas):\n",
        "            if (c < 1):\n",
        "                print('Nome: %s' % data)\n",
        "            else:\n",
        "                print('Idade: %s anos' % str(calcula_idade(data)))"
      ],
      "execution_count": null,
      "outputs": []
    },
    {
      "cell_type": "markdown",
      "metadata": {
        "id": "sULnvMFTa6yT"
      },
      "source": [
        "#Problema 4\n",
        "##Escreva um programa que lê um arquivo chamado frases.txt e imprime na tela a quantidade de frases palíndromos que existem no arquivo. Dica: utilize a função replace de strings\n",
        "para remover os espaços em branco antes de verificar se a frase é um palíndromo. Exemplo: assumindo que frase éumavariável que contém uma string, a chamada frase.replace(`a',\n",
        "`b') retorna uma nova string onde todas as ocorrências do caractere `a' na frase é substituído pelo caractere `b'. Além disso, não esqueça de tornar todas as letras minúsculas antes da verificação (função lower() de strings).\n",
        "Observação: as mensagens exibidas para o usuário deverão ser exatamente como apresentado abaixo (mensagens exibidas comos comandos input() e print()).\n",
        "###Exemplo de execução do programa:\n",
        "- Assumindo que o arquivo frases.txt possui o conteúdo abaixo:\n",
        "#####A base do teto desaba\n",
        "#####Bazinga\n",
        "#####A mala nada na lama\n",
        "#####Grandes poderes trazem grandes responsabilidades\n",
        "-Seu programa deve imprimir:\n",
        "#####Quantidade de palíndromos: 2\n",
        "#####4"
      ]
    },
    {
      "cell_type": "code",
      "metadata": {
        "id": "yoXATiIdbUUr"
      },
      "source": [
        "def VerPalindromo(palavra):\n",
        "    ePalindromo = True\n",
        "    c=0\n",
        "    for v in range(len(palavra)-1, 0, -1):    \n",
        "        if(palavra[c]!=palavra[v]):\n",
        "            ePalindromo = False    \n",
        "        c = c + 1\n",
        "    return ePalindromo\n",
        "\n",
        "qtde = 0\n",
        "with open(\"frases.txt\", \"r\") as arquivo:\n",
        "    for frase in arquivo:\n",
        "        c = None\n",
        "        if (VerPalindromo(frase.lower().replace(' ','').rstrip())):\n",
        "            qtde = qtde + 1\n",
        "\n",
        "print('Quantidade de palíndromos: %s' % str(qtde))\n",
        "\n",
        "\n"
      ],
      "execution_count": null,
      "outputs": []
    },
    {
      "cell_type": "code",
      "metadata": {
        "id": "B3nt1oLFbXEr"
      },
      "source": [
        "def VerPalindromo(palavra):\n",
        "    ePalindromo = True\n",
        "    c=0\n",
        "    for v in range(len(palavra)-1, 0, -1):    \n",
        "        if(palavra[c]!=palavra[v]):\n",
        "            ePalindromo = False    \n",
        "        c = c + 1\n",
        "    return ePalindromo\n",
        "\n",
        "qtde = 0\n",
        "with open(\"frases.txt\", \"r\") as arquivo:\n",
        "    for linha in arquivo:\n",
        "        palavras = linha.split()\n",
        "        c = None\n",
        "        for c, palavra in enumerate(palavras):\n",
        "            if (VerPalindromo(palavra)):\n",
        "                qtde = qtde + 1\n",
        "\n",
        "print('Quantidade de palíndromos: %s' % str(qtde))\n",
        "\n"
      ],
      "execution_count": null,
      "outputs": []
    }
  ]
}