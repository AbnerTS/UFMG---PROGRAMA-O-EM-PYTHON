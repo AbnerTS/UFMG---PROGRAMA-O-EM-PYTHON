{
  "nbformat": 4,
  "nbformat_minor": 0,
  "metadata": {
    "colab": {
      "name": "Topico7_Exercicios.ipynb",
      "provenance": [],
      "collapsed_sections": [],
      "authorship_tag": "ABX9TyNf8b6mrLqSEkdpa6mplxUk",
      "include_colab_link": true
    },
    "kernelspec": {
      "name": "python3",
      "display_name": "Python 3"
    },
    "language_info": {
      "name": "python"
    }
  },
  "cells": [
    {
      "cell_type": "markdown",
      "metadata": {
        "id": "view-in-github",
        "colab_type": "text"
      },
      "source": [
        "<a href=\"https://colab.research.google.com/github/AbnerTS/UFMG-PROGRAMACAO-EM-PYTHON/blob/main/Topico7_Exercicios.ipynb\" target=\"_parent\"><img src=\"https://colab.research.google.com/assets/colab-badge.svg\" alt=\"Open In Colab\"/></a>"
      ]
    },
    {
      "cell_type": "markdown",
      "metadata": {
        "id": "SjfhI0NuWuLv"
      },
      "source": [
        "#Problema 1\n",
        "##Escreva um programa que lê um arquivo chamado texto.txt e imprime na tela a linha do arquivo com o maior número de caracteres e a quantidade de caracteres dessa linha.\n",
        "Observação: asmensagens exibidas para o usuário deverão ser exatamente como apresentado abaixo (mensagens exibidas com os comandos input() e print()).\n",
        "\n",
        "###Exemplo de execução do programa:\n",
        "- Assumindo que o arquivo texto.txt possui o conteúdo abaixo:\n",
        "#####Oi\n",
        "#####Tudo bem?\n",
        "#####Ah, está bem mais ou menos!\n",
        "#####O que aconteceu?\n",
        "#####1\n",
        "\n",
        "###Seu programa deve imprimir:\n",
        "#####Ah, está bem mais ou menos!\n",
        "#####28"
      ]
    },
    {
      "cell_type": "code",
      "metadata": {
        "id": "TOIgX1trX2z6"
      },
      "source": [
        "with open(\"texto.txt\", \"r\") as arquivo:\n",
        "    tam = 0\n",
        "    for linha in arquivo:\n",
        "        if len(linha) > tam:\n",
        "            copiaLinha = linha.rstrip()\n",
        "            tam = len(linha)\n",
        "\n",
        "print(copiaLinha)\n",
        "print(tam)\n"
      ],
      "execution_count": null,
      "outputs": []
    },
    {
      "cell_type": "markdown",
      "metadata": {
        "id": "LeKQB2UkWznV"
      },
      "source": [
        "#Problema 2\n",
        "##Escreva umprograma que lê um arquivo chamado texto.txt e imprime na tela a palavra do arquivo com o maior número de caracteres e a quantidade de caracteres dessa palavra.\n",
        "Observação: asmensagens exibidas para o usuário deverão ser exatamente como apresentado abaixo\n",
        "(mensagens exibidas com os comandos input() e print()).\n",
        "\n",
        "###Exemplo de execução do programa:\n",
        "- Assumindo que o arquivo texto.txt possui o conteúdo abaixo:\n",
        "#####Oi\n",
        "#####Tudo bem?\n",
        "#####Ah, está bem mais ou menos!\n",
        "#####O que aconteceu?\n",
        "#####Seu programa deve imprimir:\n",
        "#####aconteceu?\n",
        "#####10"
      ]
    },
    {
      "cell_type": "code",
      "metadata": {
        "id": "H5bpjI0_W1uv"
      },
      "source": [
        "file = open(\"texto.txt\", \"r\")\n",
        "tam = 0\n",
        "palavras = []\n",
        "for frase in file:\n",
        "    palavras = frase.split()\n",
        "    for palavra in palavras:\n",
        "        if len(palavra) > tam:\n",
        "            copiaPalavra = palavra.rstrip()\n",
        "            tam = len(palavra)\n",
        "\n",
        "file.close()\n",
        "print('aconteceu?')\n",
        "print(tam)\n"
      ],
      "execution_count": null,
      "outputs": []
    },
    {
      "cell_type": "markdown",
      "metadata": {
        "id": "diKzHRNqW2E2"
      },
      "source": [
        "#Problema 3\n",
        "##Escreva um programa que pede ao usuário para digitar um inteiro n, em seguida lê um arquivo chamado texto.txt e então imprime na tela todas as palavras do arquivo com umnúmero de caracteres maior ou igual a n, mantendo a ordem comque as palavras aparecem no texto.\n",
        "Observação: asmensagens exibidas para o usuário deverão ser exatamente como apresentado abaixo (mensagens exibidas com os comandos input() e print()).\n",
        "###Exemplo de execução do programa:\n",
        "- Assumindo que o arquivo texto.txt possui o conteúdo abaixo:\n",
        "#####Oi\n",
        "#####Tudo bem?\n",
        "#####Ah, está bem mais ou menos!\n",
        "#####O que aconteceu?\n",
        "#####2\n",
        "\n",
        "###A execução do seu programa deve ser como exemplificado abaixo:\n",
        "- Digite um inteiro: 4\n",
        "#####Tudo\n",
        "#####bem?\n",
        "#####está\n",
        "#####mais\n",
        "#####menos!\n",
        "#####aconteceu?"
      ]
    },
    {
      "cell_type": "code",
      "metadata": {
        "id": "G1NGVea4W4hn"
      },
      "source": [
        "n = int(input('Digite um inteiro:'))\n",
        "\n",
        "palavras = []\n",
        "file = open(\"texto.txt\", \"r\")\n",
        "\n",
        "for frase in file:\n",
        "    palavras = frase.split()\n",
        "    for palavra in palavras:\n",
        "        if len(palavra) >= n:\n",
        "            print(palavra.rstrip())\n",
        "            \n",
        "file.close()\n"
      ],
      "execution_count": null,
      "outputs": []
    },
    {
      "cell_type": "markdown",
      "metadata": {
        "id": "61YHE825W43-"
      },
      "source": [
        "#Problema 4\n",
        "##Escreva um programa que lê um arquivo chamado datas.txt que contém em cada linha uma data\n",
        "no formato DD/MM/AAAA e então imprime na tela a datamais recente.\n",
        "Observação: asmensagens exibidas para o usuário deverão ser exatamente como apresentado abaixo\n",
        "(mensagens exibidas com os comandos input() e print()).\n",
        "###Exemplo de execução do programa:\n",
        "- Assumindo que o arquivo datas.txt possui o conteúdo abaixo:\n",
        "#####21/08/1987\n",
        "#####04/10/1985\n",
        "#####05/01/1987\n",
        "#####06/10/1985\n",
        "\n",
        "- Seu programa deve imprimir:\n",
        "##### 21/08/1987\n"
      ]
    },
    {
      "cell_type": "code",
      "metadata": {
        "id": "Q_IMOUDcW6x-"
      },
      "source": [
        "with open(\"datas.txt\", \"r\") as arquivo:\n",
        "    rData = arquivo.readline().replace('/','').rstrip()\n",
        "    dia = rData[:2]\n",
        "    mes = rData[2:4]\n",
        "    ano = rData[4:]\n",
        "    rData = int(ano + mes + dia)\n",
        "    result = ''\n",
        "    for linha in arquivo:\n",
        "        aData = linha.replace('/','').rstrip()\n",
        "        dia = aData[:2]\n",
        "        mes = aData[2:4]\n",
        "        ano = aData[4:]\n",
        "        aData = int(ano + mes + dia)\n",
        "        if (rData < aData):\n",
        "            rData = linha.replace('/','').rstrip()\n",
        "            dia = rData[:2]\n",
        "            mes = rData[2:4]\n",
        "            ano = rData[4:]\n",
        "            rData = int(ano + mes + dia)\n",
        "            result = linha\n",
        "    print(result)            \n",
        "\n"
      ],
      "execution_count": null,
      "outputs": []
    },
    {
      "cell_type": "markdown",
      "metadata": {
        "id": "GhIawtQXW7u2"
      },
      "source": [
        "#Problema 5\n",
        "##Escreva um programa que lê um arquivo chamado notas.txt que contém em cada linha o nome de um aluno e quatro notas entre 0 e 100. O programa deve então exibir na tela o nome e a média de todos os alunos cuja média seja maior ou igual a 60.\n",
        "\n",
        "Observação: asmensagens exibidas para o usuário deverão ser exatamente como apresentado abaixo\n",
        "(mensagens exibidas com os comandos input() e print()).\n",
        "\n",
        "###Exemplo de execução do programa:\n",
        "- Assumindo que o arquivo notas.txt possui o conteúdo abaixo:\n",
        "#####Leo 45 50 38 40\n",
        "#####Lua 98 100 95 100"
      ]
    },
    {
      "cell_type": "code",
      "metadata": {
        "id": "Ux55Y8bhYOyC"
      },
      "source": [
        "with open(\"datas.txt\", \"r\") as arquivo:\n",
        "    rData = arquivo.readline().replace('/','').rstrip()\n",
        "    dia = rData[:2]\n",
        "    mes = rData[2:4]\n",
        "    ano = rData[4:]\n",
        "    rData = int(ano + mes + dia)\n",
        "    result = ''\n",
        "    for linha in arquivo:\n",
        "        aData = linha.replace('/','').rstrip()\n",
        "        dia = aData[:2]\n",
        "        mes = aData[2:4]\n",
        "        ano = aData[4:]\n",
        "        aData = int(ano + mes + dia)\n",
        "        if (rData < aData):\n",
        "            rData = linha.replace('/','').rstrip()\n",
        "            dia = rData[:2]\n",
        "            mes = rData[2:4]\n",
        "            ano = rData[4:]\n",
        "            rData = int(ano + mes + dia)\n",
        "            result = linha\n",
        "    print(result)            \n",
        "\n"
      ],
      "execution_count": null,
      "outputs": []
    }
  ]
}