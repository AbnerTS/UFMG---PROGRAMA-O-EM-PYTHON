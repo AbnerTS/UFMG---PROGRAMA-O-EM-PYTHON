{
  "nbformat": 4,
  "nbformat_minor": 0,
  "metadata": {
    "colab": {
      "name": "Topico6_Exercicios.ipynb",
      "provenance": [],
      "collapsed_sections": [],
      "authorship_tag": "ABX9TyO55P5oDxtmhLEGZgmp8e8v",
      "include_colab_link": true
    },
    "kernelspec": {
      "name": "python3",
      "display_name": "Python 3"
    },
    "language_info": {
      "name": "python"
    }
  },
  "cells": [
    {
      "cell_type": "markdown",
      "metadata": {
        "id": "view-in-github",
        "colab_type": "text"
      },
      "source": [
        "<a href=\"https://colab.research.google.com/github/AbnerTS/UFMG-PROGRAMACAO-EM-PYTHON/blob/main/Topico6_Exercicios.ipynb\" target=\"_parent\"><img src=\"https://colab.research.google.com/assets/colab-badge.svg\" alt=\"Open In Colab\"/></a>"
      ]
    },
    {
      "cell_type": "markdown",
      "metadata": {
        "id": "ghIhlPoVQ3wW"
      },
      "source": [
        "#Problema 1\n",
        "##Faça um programa que leia umendereço IP e imprima na tela se o mesmo é válido ou não. Um endereço\n",
        "IP possui o formato x.y.z.w, onde x, y, z e w são números no intervalo [0, 255].\n",
        "Observação: asmensagens exibidas para o usuário deverão ser exatamente como apresentado abaixo\n",
        "(mensagens exibidas com os comandos input() e print()).\n",
        "###Exemplo de execução do programa:\n",
        "- 200.135.80.9\n",
        "#####Válido\n",
        "###Exemplo de execução do programa:\n",
        "-257.32.4.5\n",
        "#####Inválido\n"
      ]
    },
    {
      "cell_type": "code",
      "metadata": {
        "colab": {
          "base_uri": "https://localhost:8080/"
        },
        "id": "LEQvmLeDRYO3",
        "outputId": "ebf0a287-7e08-464d-a496-2339624eb2e8"
      },
      "source": [
        "txt = input()\n",
        "erro = False\n",
        "\n",
        "for ip in txt.split(\".\"):\n",
        "    if (int(ip) > 255):\n",
        "        erro = True\n",
        "    elif (int(ip) < 0):\n",
        "        erro = True\n",
        "\n",
        "if (erro):\n",
        "    print('Inválido')        \n",
        "else:\n",
        "   print('Válido')\n",
        "        \n"
      ],
      "execution_count": 1,
      "outputs": [
        {
          "output_type": "stream",
          "name": "stdout",
          "text": [
            "200.135.80.9\n",
            "Válido\n"
          ]
        }
      ]
    },
    {
      "cell_type": "markdown",
      "metadata": {
        "id": "MSQfT1gmRZMG"
      },
      "source": [
        "#Problema 2\n",
        "##Em uma competição de salto em distância, cada atleta tem direito a cinco saltos. No final da série de\n",
        "saltos de cada atleta, omelhor e o pior resultados são eliminados. O seu resultado fica sendo a média\n",
        "dos três valores restantes. Você deve fazer um programa que receba as cinco distâncias alcançadas\n",
        "pelo atleta em seus saltos. Em seguida, o programa deve exibir a média dos saltos conforme a descrição\n",
        "acima informada (retirar omelhor e o pior salto e depois calcular a média).\n",
        "\n",
        "Observação: asmensagens exibidas para o usuário deverão ser exatamente como apresentado abaixo\n",
        "(mensagens exibidas com os comandos input() e print()).\n",
        "\n",
        "###Exemplo de execução do programa:\n",
        "- 6.50\n",
        "- 6.10\n",
        "- 6.20\n",
        "- 5.40\n",
        "- 5.3\n",
        "#####Média: 5.90"
      ]
    },
    {
      "cell_type": "code",
      "metadata": {
        "colab": {
          "base_uri": "https://localhost:8080/"
        },
        "id": "_UO9u9n3SIbd",
        "outputId": "2b80fabc-dfc5-41e3-8677-3845f3edc80e"
      },
      "source": [
        "notas = []\n",
        "for x in range(5):\n",
        "    notas.append(float(input()))\n",
        "\n",
        "notas.sort()\n",
        "notas.pop(0)\n",
        "notas.pop(len(notas)-1)\n",
        "\n",
        "media = 0\n",
        "c = 0\n",
        "for n in notas:\n",
        "    media = media + n\n",
        "    c = c + 1\n",
        "\n",
        "media = (media /c)\n",
        "print('Média:%.2f' % media)\n",
        "    \n",
        "\n",
        "    "
      ],
      "execution_count": 2,
      "outputs": [
        {
          "output_type": "stream",
          "name": "stdout",
          "text": [
            "6.5\n",
            "6.1\n",
            "6.2\n",
            "5.4\n",
            "5.3\n",
            "Média:5.90\n"
          ]
        }
      ]
    },
    {
      "cell_type": "markdown",
      "metadata": {
        "id": "-gDVN4n3SIsV"
      },
      "source": [
        "#Problema 3\n",
        "##Faça um programa que leia 5 números inteiros e armazene-os numa lista. Armazene os números pares\n",
        "em uma lista e os números ímpares emuma outra lista. Imprima as três listas na tela.\n",
        "Observação: asmensagens exibidas para o usuário deverão ser exatamente como apresentado abaixo\n",
        "(mensagens exibidas com os comandos input() e print()).\n",
        "\n",
        "###Exemplo de execução do programa:\n",
        "- 1\n",
        "- 2\n",
        "- 3\n",
        "- 4\n",
        "- 5\n",
        "#####[1, 2, 3, 4, 5]\n",
        "#####[2, 4]\n",
        "#####[1, 3, 5]\n",
        "\n",
        "###Exemplo de execução do programa:\n",
        "- 2\n",
        "- 4\n",
        "- 6\n",
        "- 8\n",
        "- 10\n",
        "#####[2, 4, 6, 8, 10]\n",
        "#####[2, 4, 6, 8, 10]\n",
        "#####[]"
      ]
    },
    {
      "cell_type": "code",
      "metadata": {
        "colab": {
          "base_uri": "https://localhost:8080/"
        },
        "id": "r8M6X6LVSMKt",
        "outputId": "44ece49f-de57-4a75-d6ea-d4322b3181a0"
      },
      "source": [
        "txt = []\n",
        "for x in range(5):\n",
        "    txt.append(int(input()))\n",
        "    \n",
        "impares = []\n",
        "pares = []\n",
        "\n",
        "for i in txt:\n",
        "    if (i % 2):\n",
        "        impares.append(i)\n",
        "    else:\n",
        "        pares.append(i)\n",
        "\n",
        "print(txt)\n",
        "print(pares)\n",
        "print(impares)\n",
        "        "
      ],
      "execution_count": 4,
      "outputs": [
        {
          "output_type": "stream",
          "name": "stdout",
          "text": [
            "1\n",
            "2\n",
            "3\n",
            "4\n",
            "5\n",
            "[1, 2, 3, 4, 5]\n",
            "[2, 4]\n",
            "[1, 3, 5]\n"
          ]
        }
      ]
    },
    {
      "cell_type": "markdown",
      "metadata": {
        "id": "Nc1i74E7SMZt"
      },
      "source": [
        "#Problema 4\n",
        "##Faça umprograma que receba a temperaturamédia de cada mês do ano e armazene-as em uma lista.\n",
        "Após isto, calcule e mostre a média anual das temperaturas e mostre todas as temperaturas acima da\n",
        "média anual.\n",
        "Observação: asmensagens exibidas para o usuário deverão ser exatamente como apresentado abaixo\n",
        "(mensagens exibidas com os comandos input() e print()).\n",
        "###Exemplo de execução do programa:\n",
        "- 1\n",
        "- 2\n",
        "- 3\n",
        "- 4\n",
        "- 5\n",
        "- 6\n",
        "- 7\n",
        "- 8\n",
        "- 9\n",
        "- 10\n",
        "- 11\n",
        "- 12\n",
        "#####Média: 6.50\n",
        "\n",
        "- 7\n",
        "- 8\n",
        "- 9\n",
        "- 10\n",
        "- 11\n",
        "- 12\n"
      ]
    },
    {
      "cell_type": "code",
      "metadata": {
        "colab": {
          "base_uri": "https://localhost:8080/"
        },
        "id": "UphJ-X3USRcd",
        "outputId": "4647af05-ba50-4be6-f95d-03cf335434cf"
      },
      "source": [
        "temperaturas = []\n",
        "media = 0\n",
        "\n",
        "for x in range(12):\n",
        "    temp = int(input())\n",
        "    media = media + temp\n",
        "    temperaturas.append(temp)\n",
        "media = media / 12\n",
        "print(\"Média: %.2f\" % media)\n",
        "\n",
        "for t in temperaturas:\n",
        "    if (t > media):\n",
        "        print(t)"
      ],
      "execution_count": 6,
      "outputs": [
        {
          "output_type": "stream",
          "name": "stdout",
          "text": [
            "1\n",
            "2\n",
            "3\n",
            "4\n",
            "5\n",
            "6\n",
            "7\n",
            "8\n",
            "9\n",
            "10\n",
            "11\n",
            "12\n",
            "Média: 6.50\n",
            "7\n",
            "8\n",
            "9\n",
            "10\n",
            "11\n",
            "12\n"
          ]
        }
      ]
    },
    {
      "cell_type": "markdown",
      "metadata": {
        "id": "sMUsoHtYSRw-"
      },
      "source": [
        "#Problema 5\n",
        "##Escreva um programa que leia uma data no formato DD/MM/AAAA e imprima na tela a data no formato MM/DD/AAAA.\n",
        "Observação: asmensagens exibidas para o usuário deverão ser exatamente como apresentado abaixo\n",
        "(mensagens exibidas com os comandos input() e print()).\n",
        "###Exemplo de execução do programa:\n",
        "- 01/11/2018\n",
        "#####11/01/2018\n"
      ]
    },
    {
      "cell_type": "code",
      "metadata": {
        "colab": {
          "base_uri": "https://localhost:8080/"
        },
        "id": "SCnoLVU-SUF9",
        "outputId": "bf4f62d2-fc29-44fc-ad86-39a238081705"
      },
      "source": [
        "data = input()\n",
        "\n",
        "dd = ''\n",
        "mm = ''\n",
        "aaaa = ''\n",
        "c = 0\n",
        "for d in data.split(\"/\"):\n",
        "    if (c == 0):\n",
        "        dd = d\n",
        "    elif (c == 1):\n",
        "        mm = d\n",
        "    elif (c == 2):\n",
        "        aaaa = d\n",
        "    c = c + 1\n",
        "\n",
        "print('%s/%s/%s' % (mm, dd, aaaa))\n",
        "    \n",
        "    \n",
        "    \n",
        "        \n"
      ],
      "execution_count": 7,
      "outputs": [
        {
          "output_type": "stream",
          "name": "stdout",
          "text": [
            "01/11/2018\n",
            "11/01/2018\n"
          ]
        }
      ]
    },
    {
      "cell_type": "code",
      "metadata": {
        "id": "T4gqsMkVTJh7"
      },
      "source": [
        ""
      ],
      "execution_count": null,
      "outputs": []
    }
  ]
}