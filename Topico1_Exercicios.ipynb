{
  "nbformat": 4,
  "nbformat_minor": 0,
  "metadata": {
    "colab": {
      "name": "Topico1_Exercicios.ipynb",
      "provenance": [],
      "authorship_tag": "ABX9TyOu27QzfWT1yIwWfcJKBT1P",
      "include_colab_link": true
    },
    "kernelspec": {
      "name": "python3",
      "display_name": "Python 3"
    },
    "language_info": {
      "name": "python"
    }
  },
  "cells": [
    {
      "cell_type": "markdown",
      "metadata": {
        "id": "view-in-github",
        "colab_type": "text"
      },
      "source": [
        "<a href=\"https://colab.research.google.com/github/AbnerTS/UFMG-PROGRAMACAO-EM-PYTHON/blob/main/Topico1_Exercicios.ipynb\" target=\"_parent\"><img src=\"https://colab.research.google.com/assets/colab-badge.svg\" alt=\"Open In Colab\"/></a>"
      ]
    },
    {
      "cell_type": "markdown",
      "metadata": {
        "id": "uYqz2FRKarsD"
      },
      "source": [
        "##Problema 1 \n",
        "Escreva um programa que solicita ao usuário o raio de uma circunferência e o programa imprime na\n",
        "tela o valor do perímetro e da área dessa circunferência, além do volume da esfera formada por essa\n",
        "circunferência. \n",
        "\n",
        "Considere as seguintes fórmulas:\n",
        "\n",
        "- Perímetro = 2×pi×r\n",
        "- Área = pi×r^2\n",
        "- Volume = 4×pi×(r^3/3)\n",
        "\n",
        "Observação 1: utilize como valor de p a constante 3.1415\n",
        "\n",
        "Observação 2: as mensagens exibidas para o usuário deverão ser exatamente como apresentado abaixo (mensagens exibidas com os comandos input() e print()).\n",
        "\n",
        "###Exemplo de execução do programa:\n",
        "\n",
        "Digite o valor do raio da circunferência: 5.0\n",
        "\n",
        "- Perímetro: 31.42\n",
        "- Área: 78.54\n",
        "- Volume: 523.58\n"
      ]
    },
    {
      "cell_type": "code",
      "metadata": {
        "colab": {
          "base_uri": "https://localhost:8080/"
        },
        "id": "idFTjbBlaj5q",
        "outputId": "03f9cf24-8d58-4dc0-94e5-97fce91f0beb"
      },
      "source": [
        "raio = float(input())\n",
        "\n",
        "pi = 3.1415\n",
        "#pi = 3.14159265359\n",
        "\n",
        "perimetro = 2 * pi * raio\n",
        "\n",
        "area = pi * (raio**2)\n",
        "\n",
        "volume = 4 * pi * (raio**3)/3\n",
        "\n",
        "print(\"Perímetro: \" + str(round(perimetro, 2)),\n",
        "      \"\\nÁrea: \" + str(\"%.2f\" % area),\n",
        "      \"\\nVolume: \" + format(volume, '.2f')\n",
        "      )\n",
        "      \n",
        "#print(\"\\n\\nPerímetro: %.2f \\nÁrea: %.2f \\nVolume: %.2f\" % (perimetro, area, volume))\n"
      ],
      "execution_count": 3,
      "outputs": [
        {
          "output_type": "stream",
          "name": "stdout",
          "text": [
            "5.0\n",
            "Perímetro: 31.42 \n",
            "Área: 78.54 \n",
            "Volume: 523.58\n"
          ]
        }
      ]
    },
    {
      "cell_type": "markdown",
      "metadata": {
        "id": "FX8ps2opbUrS"
      },
      "source": [
        "\n",
        "##Problema 2\n",
        "Escreva um programa que solicita ao usuário um valor de velocidade (v0), um valor de aceleração (a) e\n",
        "um valor de tempo (t) e o programa imprime na tela a velocidade final e a distância percorrida por um\n",
        "veículo após o intervalo de tempo t, com velocidade inicial igual a v0 e aceleração igual a a. Considere\n",
        "as seguintes fórmulas:\n",
        "\n",
        "- Velocidade final: v = v0 + a × t\n",
        "- Distância percorrida: s = v0 × t + ((a×t^2)/2)\n",
        "\n",
        "Observação: as mensagens exibidas para o usuário deverão ser exatamente como apresentado abaixo\n",
        "(mensagens exibidas com os comandos input() e print()).\n",
        "\n",
        "###Exemplo de execução do programa:\n",
        "\n",
        "Digite o valor da velocidade: 100.0\n",
        "\n",
        "Digite o valor da aceleração: 5.0\n",
        "\n",
        "Digite o valor do tempo: 60.0\n",
        "\n",
        "- Velocidade final: 400.00\n",
        "- Distância percorrida: 15000.00\n"
      ]
    },
    {
      "cell_type": "code",
      "metadata": {
        "colab": {
          "base_uri": "https://localhost:8080/"
        },
        "id": "xEpnEVASa_Sc",
        "outputId": "85d5dd44-04ec-4eb6-98df-1391ba642359"
      },
      "source": [
        "v0 = float(input(\"Digite o valor da velocidade:\"))\n",
        "a = float(input(\"Digite o valor da aceleração:\"))\n",
        "t = float(input(\"Digite o valor do tempo:\"))\n",
        "\n",
        "#Velocidade final:\n",
        "vf = v0 + a * t\n",
        "\n",
        "#Distância percorrida:\n",
        "s = v0 * t + (a*t**2)/2\n",
        "\n",
        "print(\"Velocidade final: %.2f\" % (vf))\n",
        "print(\"Distância percorrida: %.2f\" % (s))\n",
        "\n"
      ],
      "execution_count": 4,
      "outputs": [
        {
          "output_type": "stream",
          "name": "stdout",
          "text": [
            "Digite o valor da velocidade:100\n",
            "Digite o valor da aceleração:5\n",
            "Digite o valor do tempo:60\n",
            "Velocidade final: 400.00\n",
            "Distância percorrida: 15000.00\n"
          ]
        }
      ]
    },
    {
      "cell_type": "markdown",
      "metadata": {
        "id": "OCrMk9kvbmcC"
      },
      "source": [
        "##Problema 3\n",
        "\n",
        "Escreva um programa que solicita ao usuário um intervalo de tempo em segundos e o programa imprime na tela o valor correspondente em horas, minutos e segundos.\n",
        "Observação: as mensagens exibidas para o usuário deverão ser exatamente como apresentado abaixo\n",
        "(mensagens exibidas com os comandos input() e print()).\n",
        "\n",
        "###Exemplo 1 de execução do programa:\n",
        "\n",
        "Digite o valor do tempo em segundos: 3850\n",
        "- Valor convertido: 1 h 4 min 10 s\n",
        "\n",
        "\n",
        "###Exemplo 2 de execução do programa:\n",
        "\n",
        "Digite o valor do tempo em segundos: 60\n",
        "- Valor convertido: 0 h 1 min 0 s\n"
      ]
    },
    {
      "cell_type": "code",
      "metadata": {
        "colab": {
          "base_uri": "https://localhost:8080/"
        },
        "id": "9UGRoymRbYNq",
        "outputId": "8d7b3f04-28be-4cc4-d7df-a6c00f39e5e3"
      },
      "source": [
        "seg = float(input(\"Digite o valor do tempo em segundos:\"))\n",
        "\n",
        "h = seg / 3600\n",
        "resto = seg % 3600\n",
        "m = resto / 60\n",
        "s = resto % 60\n",
        "\n",
        "print(\"Valor convertido: %i h %i min %i s\" % (h, m, s))"
      ],
      "execution_count": 5,
      "outputs": [
        {
          "output_type": "stream",
          "name": "stdout",
          "text": [
            "Digite o valor do tempo em segundos:3850\n",
            "Valor convertido: 1 h 4 min 10 s\n"
          ]
        }
      ]
    },
    {
      "cell_type": "markdown",
      "metadata": {
        "id": "sRuSO2GqbxsK"
      },
      "source": [
        "##Problema 4\n",
        "Escreva um programa que solicita ao usuário um número inteiro de 4 algarismos e o programa imprime na tela o seu valor invertido.\n",
        "Observação: as mensagens exibidas para o usuário deverão ser exatamente como apresentado abaixo\n",
        "(mensagens exibidas com os comandos input() e print()).\n",
        "\n",
        "###Exemplo de execução do programa:\n",
        "\n",
        "Digite um inteiro de 4 algarismos: 1234\n",
        "- Valor invertido: 4321"
      ]
    },
    {
      "cell_type": "code",
      "metadata": {
        "colab": {
          "base_uri": "https://localhost:8080/"
        },
        "id": "IL8-yDeGbqZi",
        "outputId": "b198fbcc-cc48-4dd6-c93e-48c534eefadf"
      },
      "source": [
        "def split(word):\n",
        "    result = ''\n",
        "    tam = int(len(word))-1\n",
        "    for tam in range(tam,-1, -1):\n",
        "        result = result + word[tam]\n",
        "    return result\n",
        "\n",
        "seg = input(\"Digite um inteiro de 4 algarismos:\")\n",
        "\n",
        "vInvertido = split(seg)\n",
        "\n",
        "print(\"Valor invertido: %s\" % (vInvertido))"
      ],
      "execution_count": 6,
      "outputs": [
        {
          "output_type": "stream",
          "name": "stdout",
          "text": [
            "Digite um inteiro de 4 algarismos:1234\n",
            "Valor invertido: 4321\n"
          ]
        }
      ]
    },
    {
      "cell_type": "code",
      "metadata": {
        "id": "daZ6hPwGb4py"
      },
      "source": [
        ""
      ],
      "execution_count": null,
      "outputs": []
    }
  ]
}