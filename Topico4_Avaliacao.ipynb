{
  "nbformat": 4,
  "nbformat_minor": 0,
  "metadata": {
    "colab": {
      "name": "Topico4_Avaliacao.ipynb",
      "provenance": [],
      "authorship_tag": "ABX9TyORMc7YELlZSQUl3jdGNkTT",
      "include_colab_link": true
    },
    "kernelspec": {
      "name": "python3",
      "display_name": "Python 3"
    },
    "language_info": {
      "name": "python"
    }
  },
  "cells": [
    {
      "cell_type": "markdown",
      "metadata": {
        "id": "view-in-github",
        "colab_type": "text"
      },
      "source": [
        "<a href=\"https://colab.research.google.com/github/AbnerTS/UFMG-PROGRAMACAO-EM-PYTHON/blob/main/Topico4_Avaliacao.ipynb\" target=\"_parent\"><img src=\"https://colab.research.google.com/assets/colab-badge.svg\" alt=\"Open In Colab\"/></a>"
      ]
    },
    {
      "cell_type": "markdown",
      "metadata": {
        "id": "16_LiTf7KLgA"
      },
      "source": [
        "##Problema 1\n",
        "Escreva uma função chamada soma_divisores que recebe como parâmetro umnúmero inteiro\n",
        "e retorna a soma de todos os divisores desse número, com exceção dele próprio.\n",
        "\n",
        "Observação 1: O nome da função deve ser exatamente como especificado acima e seu arquivo\n",
        "deve obrigatoriamente se chamar problema1.py.\n",
        "\n",
        "Observação 2: Seu programa deve conter apenas a função descrita acima. Você não precisa\n",
        "realizar a entrada e saída de dados (não precisa usar as funções input() e print()).\n",
        "\n",
        "###Exemplo 1 de execução do programa:\n",
        "- Digite um número: 100\n",
        "\n",
        "Resultado: 117\n",
        "\n",
        "###Exemplo 2 de execução do programa:\n",
        "- Digite um número: 39\n",
        "\n",
        "Resultado: 17"
      ]
    },
    {
      "cell_type": "code",
      "metadata": {
        "colab": {
          "base_uri": "https://localhost:8080/"
        },
        "id": "soAORRYMKE3f",
        "outputId": "24c2b38d-e4f1-4e6a-a007-0bb10924179a"
      },
      "source": [
        "def soma_divisores(nInt):\n",
        "    soma = 0.0\n",
        "    for n in range(nInt, 1, -1):\n",
        "        valor = nInt / n\n",
        "        if (nInt % n == 0):\n",
        "            soma = soma + valor\n",
        "    return int(soma)\n",
        "    \n",
        "\n",
        "result = soma_divisores(int(input()))\n",
        "print(\"Divisor = %i\" % result)"
      ],
      "execution_count": 1,
      "outputs": [
        {
          "output_type": "stream",
          "name": "stdout",
          "text": [
            "39\n",
            "Divisor = 17\n"
          ]
        }
      ]
    },
    {
      "cell_type": "markdown",
      "metadata": {
        "id": "bNHoXNa3Lfbf"
      },
      "source": [
        "##Problema 2\n",
        "Em Matemática, o número harmônico designado por H(n) é definido como sendo a soma da\n",
        "série harmônica:\n",
        "\n",
        "H(n) = 1 + 1/2 + 1/3 + 1/4 + ... + 1/n\n",
        "\n",
        "Faça um programa que lê um valor inteiro e positivo n e imprime o valor de H(n), com duas\n",
        "casas decimais.\n",
        "\n",
        "Observação: as mensagens exibidas para o usuário deverão ser exatamente como apresentado\n",
        "abaixo (mensagens exibidas comos comandos input() e print()).\n",
        "\n",
        "###Exemplo 1 de execução do programa:\n",
        "- Digite n: 12\n",
        "\n",
        "Resultado: 3.10\n",
        "\n",
        "###Exemplo 2 de execução do programa:\n",
        "- Digite n: 6\n",
        "\n",
        "Resultado: 2.45\n"
      ]
    },
    {
      "cell_type": "code",
      "metadata": {
        "colab": {
          "base_uri": "https://localhost:8080/"
        },
        "id": "00fDt80RLhS-",
        "outputId": "04647633-c629-4465-dbc4-58608f2b8fc2"
      },
      "source": [
        "nInt = int(input(\"Digite n:\"))\n",
        "\n",
        "hn = 0\n",
        "for n in range(1, nInt+1):\n",
        "    if(n==1):\n",
        "        hn = hn + 1\n",
        "    else:\n",
        "        hn = hn + (1/n)\n",
        "    \n",
        "print(\"Resultado: %.2f\" % hn)\n",
        "\n"
      ],
      "execution_count": 2,
      "outputs": [
        {
          "output_type": "stream",
          "name": "stdout",
          "text": [
            "Digite n:6\n",
            "Resultado: 2.45\n"
          ]
        }
      ]
    },
    {
      "cell_type": "markdown",
      "metadata": {
        "id": "hCe8_KO2Lhq2"
      },
      "source": [
        "##Problema 3\n",
        "Um funcionário chamado Carlos tem um colega chamado João que recebe um salário que\n",
        "equivale a 1/3 do seu salário. Carlos gosta de fazer aplicações na poupança e vai aplicar seu\n",
        "salário integralmente nela uma única vez. João aplicará seu salário integralmente no fundo\n",
        "de renda fixa uma única vez. Escreva umprograma que lê o valor do salário do Carlos, a taxa\n",
        "de rendimento da poupança e do fundo de renda fixa pormês e calcula quantos meses serão\n",
        "necessários para que o valor pertencente a João iguale ou ultrapasse o valor pertencente a\n",
        "Carlos.\n",
        "\n",
        "Observação: as mensagens exibidas para o usuário deverão ser exatamente como apresentado\n",
        "abaixo (mensagens exibidas comos comandos input() e print()).\n",
        "\n",
        "###Exemplo 1 de execução do programa:\n",
        "- Digite o salário do Carlos: 2000\n",
        "- Digite o rendimento da poupança(%): 2\n",
        "- Digite o rendimento do fundo de renda fixa(%): 5\n",
        "\n",
        "Meses: 38\n",
        "\n",
        "###Exemplo 2 de execução do programa:\n",
        "- Digite o salário do Carlos: 3018.87\n",
        "- Digite o rendimento da poupança(%): 1.8\n",
        "- Digite o rendimento do fundo de renda fixa(%): 4.5\n",
        "\n",
        "Meses: 42"
      ]
    },
    {
      "cell_type": "code",
      "metadata": {
        "colab": {
          "base_uri": "https://localhost:8080/"
        },
        "id": "NjEC7TWmLkBu",
        "outputId": "0deabca4-5039-4881-c370-10cb282c71a4"
      },
      "source": [
        "sCarlos = float(input(\"Digite o salário do Carlos:\"))\n",
        "rPoup = float(input(\"Digite o rendimento da poupança(%):\"))\n",
        "rFixa = float(input(\"Digite o rendimento do fundo de renda fixa(%):\"))\n",
        "\n",
        "saldoCarlos = sCarlos\n",
        "saldoJoao = (sCarlos/3)\n",
        "meses = 0\n",
        "while (saldoJoao < saldoCarlos):\n",
        "    meses = meses + 1\n",
        "    saldoCarlos = saldoCarlos + (saldoCarlos * (rPoup/100))\n",
        "    saldoJoao = saldoJoao + (saldoJoao * (rFixa/100))\n",
        "    \n",
        "\n",
        "print(\"Meses: %i\" % (meses))"
      ],
      "execution_count": 3,
      "outputs": [
        {
          "output_type": "stream",
          "name": "stdout",
          "text": [
            "Digite o salário do Carlos:3018.87\n",
            "Digite o rendimento da poupança(%):1.8\n",
            "Digite o rendimento do fundo de renda fixa(%):4.5\n",
            "Meses: 42\n"
          ]
        }
      ]
    },
    {
      "cell_type": "markdown",
      "metadata": {
        "id": "4gIqO6ZSLkX2"
      },
      "source": [
        "##Problema 4\n",
        "Escreva umprograma que leia dois números inteiros x e y e imprima na tela todos os números\n",
        "que possuem raiz quadrada inteira entre eles (inclusive x e y).\n",
        "\n",
        "Observação: as mensagens exibidas para o usuário deverão ser exatamente como apresentado\n",
        "abaixo (mensagens exibidas comos comandos input() e print()).\n",
        "\n",
        "###Exemplo 1 de execução do programa:\n",
        "- Digite o valor de x: 1\n",
        "- Digite o valor de y: 20\n",
        "\n",
        "1\n",
        "\n",
        "4\n",
        "\n",
        "9\n",
        "\n",
        "16\n",
        "\n",
        "###Exemplo 2 de execução do programa:\n",
        "- Digite o valor de x: 20\n",
        "- Digite o valor de y: 64\n",
        "\n",
        "25\n",
        "\n",
        "36\n",
        "\n",
        "49\n",
        "\n",
        "64\n",
        "\n",
        "\n",
        "\n"
      ]
    },
    {
      "cell_type": "code",
      "metadata": {
        "colab": {
          "base_uri": "https://localhost:8080/"
        },
        "id": "lynBuMjMLm5H",
        "outputId": "1da97e2e-4b1f-4cca-8265-59b281aa8d55"
      },
      "source": [
        "x = int(input(\"Digite o valor de x:\"))\n",
        "y = int(input(\"Digite o valor de y:\"))\n",
        "\n",
        "if(x==y):\n",
        "    raiz = pow(x, 0.5)\n",
        "    print(int(raiz * raiz))\n",
        "else:\n",
        "    for n in range(x+1, y+1):\n",
        "        raiz = pow(n, 0.5)\n",
        "        if (raiz.is_integer()):\n",
        "            print(int(raiz * raiz))\n",
        "\n",
        "\n"
      ],
      "execution_count": 4,
      "outputs": [
        {
          "output_type": "stream",
          "name": "stdout",
          "text": [
            "Digite o valor de x:20\n",
            "Digite o valor de y:64\n",
            "25\n",
            "36\n",
            "49\n",
            "64\n"
          ]
        }
      ]
    },
    {
      "cell_type": "code",
      "metadata": {
        "id": "wFNW-APyMFSj"
      },
      "source": [
        ""
      ],
      "execution_count": null,
      "outputs": []
    }
  ]
}